{
 "cells": [
  {
   "cell_type": "markdown",
   "metadata": {},
   "source": [
    "# Python and NLP for Linguists\n",
    "I'm going to try something novel: giving this talk from a Jupyter notebook so I can run code on the fly.\n",
    "\n",
    "While I was writing up this notebook, this talk turned into a broad introduction to NLP as well as Python.  Oh well."
   ]
  },
  {
   "cell_type": "markdown",
   "metadata": {},
   "source": [
    "## Who is this guy?\n",
    "* Henry Anderson ([henry.anderson@uta.edu](mailto:henry.anderson@uta.edu))\n",
    "* Data Scientist in the University Analytics department\n",
    "* Specialist in unstructured data (i.e., text), machine learning, and Natural Language Processing\n",
    "* First year Linguistics masters student, with interests in computational social science, digital language use, and the language of online communities and networks."
   ]
  },
  {
   "cell_type": "markdown",
   "metadata": {},
   "source": [
    "## Contents\n",
    "* Who stands to gain the most\n",
    "* Why consider _programming,_ generally?\n",
    "* Why consider _Python,_ specifically?\n",
    "* Some demos:\n",
    "  * Custom concordance code, with massive flexibility\n",
    "  * Quick n-gram analysis\n",
    "  * Automatic dependency parsing, POS-tagging, lemmatization, tokenization, etc. (i.e., text preprocessing)\n",
    "  * Topic models\n",
    "  * Word vectors\n",
    "  * Classification and regression tasks with text"
   ]
  },
  {
   "cell_type": "markdown",
   "metadata": {},
   "source": [
    "## Goals of this talk\n",
    "* Put some basic computational/programming tools on your radar.\n",
    "* Give a sense of what _type_ of work can be done with these tools.\n",
    "* Make you generally aware of the scope and nature of computational tools.\n",
    "* Give some _very_ basic exposure to Python.\n",
    "  * We'll walk through some very basic code examples, but we'll skim over most of them.\n",
    "\n",
    "## This talk is _not..._\n",
    "* A tutorial on Python, the dataset, or the libraries.\n",
    "  * That can come later, if people are interested.\n",
    "* A tutorial in natural language processing, text processing, or big data.\n",
    "* Really a tutorial in anything."
   ]
  },
  {
   "cell_type": "markdown",
   "metadata": {},
   "source": [
    "## Who stands to gain\n",
    "* Anyone who deals with _data:_ people interested in corpus work, sociolinguistics, natural language processing, digital/online language, etc.\n",
    "* Anyone interested in _computational social science_ (CSS): i.e. general social science approaches leveraging large datasets and computational horsepower.\n",
    "  * CSS is currently exploding, and is a hugely important avenue for applied social science research.\n",
    "  * CSS is also massively interdisciplinary: programming, statistics, machine learning, AI, network analysis, linguistics, sociology, psychology, etc all combine to make CSS happen.\n",
    "* If you deal mostly with theory, or are primarily an experimentalist, you may stand to gain less from this talk.  (But you're still welcome!)"
   ]
  },
  {
   "cell_type": "markdown",
   "metadata": {},
   "source": [
    "## What does programming offer?\n",
    "* (Quite literally) infinite control over your data processing: you're not limited by the features someone else decided to code into their program--you can change your code up to do anything you want.\n",
    "\n",
    "* Scalability and automation of your data work\n",
    "  * Work with literally millions of documents and billions of words with relative ease.\n",
    "  * Automate steps from data collection through final analysis.\n",
    "\n",
    "* Some types of analysis simply are infeasible to do by hand--network analysis, topic modeling, word embeddings, etc--and _have_ to be done computationally.\n",
    "\n",
    "* Marketable skills: even a little bit of Python, Java, or any other language can open doors in the job market.\n",
    "\n",
    "* You'll feel like a badass."
   ]
  },
  {
   "cell_type": "markdown",
   "metadata": {},
   "source": [
    "## What does _Python_ offer?\n",
    "* Free (as in speech, not beer.  But also as in beer), open-source, royalty-free.  No licenses to sign, no royalties to pay, and _essentially no restrictions_ on what you can and can't do with it.  (the [Python Software Foundation license](https://docs.python.org/3/license.html) is an extremely permissive BSD-type license)\n",
    "\n",
    "* Easy-to-learn language.\n",
    "  * Very user-friendly language with very friendly users.\n",
    "  * Great documentation and stupid amounts of free, high-quality learning resources.\n",
    "  * Among its core ideas:\n",
    "    * Code is read far more than it is written, so the language should be _human-readable._\n",
    "    * \"There should be one, and preferably only one, obvious way to do it.\"  I.e., the most straightforward approach is _usually_ the best.  (This results in a lot of people writing straightforward, fairly easy-to-follow code).\n",
    "  * Commonly taught as a first programming language, so there are LOTS of materials for eveyone from beginning programmers to seasoned professionals; the Python community is also very welcoming of newcomers.\n",
    "\n",
    "* General purpose language: can do (almost) everything you want to make it to.\n",
    "  * Compare to R, which is great for statistics, and a pain for a lot of other stuff.\n",
    "  * Or Matlab, which is great for being a broken, slow, difficult software environment, and isn't so good at being, well, good.\n",
    "    * (this has been your mandatory \"Matlab is bad\" comment)\n",
    "\n",
    "* Rapidly becoming _the_ language for data science, displacing even R in most applications.  (R is still dominant for raw statistics, though Python has plenty of packages that implement common statistical tests).\n",
    "  * Though, keep an eye on a different language--Julia--over the next few years.  It is truly a worthy contender, but has yet to hit version 1.0 as of this talk.\n",
    "\n",
    "* **For linguists**: a _huge_ array of language processing functionality and libraries.\n",
    "  * [spaCy](https://spacy.io), basically a Python version of Stanford's CoreNLP toolkit (lemmatization, tokenization, dependency parsing, POS tagging, and more).\n",
    "  * [Gensim](https://radimrehurek.com/gensim/), full of topic models and pretty bleeding-edge NLP tools.\n",
    "  * [Natural Language Toolkit (NLTK)](http://www.nltk.org/), a _massive_ library that's designed to teach a lot of NLP concepts (but can be used for some serious production work too).\n",
    "  * [Pandas](http://pandas.pydata.org/) for R-like dataframes, statistics, and general tabular data management.\n",
    "  * [Matplotlib](https://matplotlib.org/) (and others like [Seaborn](https://seaborn.pydata.org/), [PyGal](http://www.pygal.org/en/stable/), [Bokeh](https://bokeh.pydata.org/en/latest/), ...) for high-quality, powerful data visualization.\n",
    "  * [scikit-learn](http://scikit-learn.org/stable/index.html) for non-neural machine learning (support vector machines, random forests, and a few text features like basic preprocessing)\n",
    "    * Side note, the scikit-learn [User Guides](http://scikit-learn.org/stable/user_guide.html) are an _excellent_ technical crash course in machine learning, even if you're not too interested in Python.\n",
    "  * [Networkx](https://networkx.github.io/) for performing network analysis.\n",
    "  * [Tensorflow](https://www.tensorflow.org/)+[Keras](https://keras.io/), for quickly and easily building neural networks.\n",
    "  * [PyTorch](http://pytorch.org/), an up-and-coming (but extremely exciting) neural network library.\n",
    "  * And dozens more."
   ]
  },
  {
   "cell_type": "markdown",
   "metadata": {},
   "source": [
    "# Some links\n",
    "\n",
    "* [Python.org](https://www.python.org/), the official Python website.\n",
    "  * [Python Standard Library reference](https://docs.python.org/3/library/index.html)\n",
    "  * [Python's official, basic tutorial](https://docs.python.org/3/tutorial/index.html).  It's not the best out there, but it's pretty good, and pretty fast.\n",
    "* [PyCharm](https://www.jetbrains.com/pycharm/), an excellent Python editor (download the community edition, not the professional edition--it's free and still has more features than most people need)\n",
    "* [Automate the Boring Stuff with Python](https://automatetheboringstuff.com/), a free (Creative Commons-licensed) eBook that introduces Python via concrete, hands-on examples and projects.\n",
    "* [r/learnpython](https://www.reddit.com/r/learnpython/), a subreddit dedicated to people learning Python and asking questions about the language.\n",
    "* [Project Euler](https://projecteuler.net/archives), a collection of math problems designed to be used as programming practice (in any language).\n",
    "* [Rosalind](http://rosalind.info/problems/locations/), another collection of practice problems, but geared at genetics and bioinformatics.\n",
    "* PyCon's YouTube channels ([2017](https://www.youtube.com/channel/UCrJhliKNQ8g0qoE_zvL8eVg), [2016](https://www.youtube.com/channel/UCwTD5zJbsQGJN75MwbykYNw), etc) have a lot of good videos, including some long-form tutorials and workshops.\n",
    "* [PyData](https://www.youtube.com/user/PyDataTV), a data science themed Python conference/convention, posts almost all of their talks to YouTube."
   ]
  },
  {
   "cell_type": "markdown",
   "metadata": {},
   "source": [
    "# Running this notebook\n",
    "\n",
    "To run this notebook, you will need to install the following Python libraries:\n",
    "* Jupyter (to run/view the notebook itself)\n",
    "* Gensim\n",
    "* spaCy\n",
    "  * You'll need to download two of spaCy's language models: `en_core_web_sm` and `en_core_web_lg`.  Installation instructions are [here.](https://spacy.io/models/)\n",
    "* Numpy\n",
    "* Scikit-learn (goes by sklearn when installing)\n",
    "* Matplotlib\n",
    "* Natural Language Toolkit (NLTK)\n",
    "* tqdm\n",
    "* Pandas\n",
    "\n",
    "For the first part of the talk, you'll also need to download `glen carrig.txt` from the Github repository and have it in the same folder as this notebook.\n",
    "\n",
    "For the second part of the talk, you'll need to download the [Blog Authorship Corpus](http://u.cs.biu.ac.il/~koppel/BlogCorpus.htm) and unzip its files into a folder named \"blogs\" (case-sensitive) in the same folder as this notebook."
   ]
  },
  {
   "cell_type": "markdown",
   "metadata": {},
   "source": [
    "# Some basic demos"
   ]
  },
  {
   "cell_type": "markdown",
   "metadata": {},
   "source": [
    "First, some necessary setup--we just need to have this program create some folders to save stuff into."
   ]
  },
  {
   "cell_type": "code",
   "execution_count": 1,
   "metadata": {
    "collapsed": true
   },
   "outputs": [],
   "source": [
    "import os\n",
    "\n",
    "if not os.path.isdir(\"corpus data files\"):\n",
    "    os.mkdir(\"corpus data files\")\n",
    "if not os.path.isdir(\"topic models\"):\n",
    "    os.mkdir(\"topic models\")\n",
    "if not os.path.isdir(\"model files\"):\n",
    "    os.mkdir(\"model files\")"
   ]
  },
  {
   "cell_type": "markdown",
   "metadata": {},
   "source": [
    "## Concordances"
   ]
  },
  {
   "cell_type": "markdown",
   "metadata": {},
   "source": [
    "Concordances can be done with regular expressions and a teeny tiny bit of legwork.  (By the way: if you're working with text, you have no excuse to not learn regular expressions.  But that would be another talk all unto itself).  We'll work with the text of William Hope Hodgeson's novel [_The Boats of the \"Glen Carrig\"_](https://en.wikipedia.org/wiki/The_Boats_of_the_%22Glen_Carrig%22), a 1907 horror novel.  The text was taken [from Project Gutenberg](http://www.gutenberg.org/ebooks/10542), with the site's boilerplate text removed from the front and back."
   ]
  },
  {
   "cell_type": "code",
   "execution_count": 2,
   "metadata": {
    "collapsed": true
   },
   "outputs": [
    {
     "name": "stdout",
     "output_type": "stream",
     "text": [
      "...that land. For, indeed, now I think of it, I can remember th...\n",
      "..., indeed, we had ever need to think more of such. And then, ...\n",
      "...ces on my throat he seemed to think but little, suggesting t...\n",
      "...e; so that I knew not what to think, being near to doubting ...\n",
      "...rawling in the valley. Yet, I think the silences tried us th...\n",
      "...her, and further than this, I think with truth I may say, we...\n",
      "...fter so long upon the sand. I think, even thus early, I had ...\n",
      "...me thus armed, they seemed to think that I intended a jest, ...\n",
      "...ch that it seemed hopeless to think of success; but, for all...\n",
      "...red in me; nor, could I, do I think I would; for were I succ...\n",
      "...d so big and unwieldy. Now, I think that Jessop gathered som...\n",
      "...were both of us young, and, I think, even thus early we attr...\n",
      "...at no decent-minded man could think the worse of her; but th...\n",
      "...ars, and this little thing, I think, brought back more clear...\n",
      "...thing; for I had not dared to think upon that which already ...\n",
      "...our love one for the other, I think yet, and ponder how that...\n",
      "Wall time: 48.5 ms\n"
     ]
    }
   ],
   "source": [
    "%%time\n",
    "\n",
    "import re\n",
    "\n",
    "def concordance(text, token, window=50):\n",
    "    pattern = re.compile(r\"\\b{}\\b\".format(token.strip()), re.IGNORECASE)\n",
    "    # convert all whitespaces to single space characters\n",
    "    text = re.sub(r\"\\s+\", \" \", text)\n",
    "    for i in pattern.finditer(text):\n",
    "        print(\n",
    "            \"...\",\n",
    "            text[i.start() - window:i.start()].rjust(window, \" \"),\n",
    "            text[i.start():i.start() + window].ljust(window, \" \"),\n",
    "            \"...\",\n",
    "            sep=\"\"\n",
    "        )\n",
    "\n",
    "glen_carrig = open(\"glen carrig.txt\", \"r\", encoding=\"utf8\").read()\n",
    "concordance(glen_carrig, \"think\", window=30)"
   ]
  },
  {
   "cell_type": "markdown",
   "metadata": {},
   "source": [
    "And if we want to get _really_ clever, we can have our concordance function search by stemmed forms.  We'll revisit stemming in a bit more detail shortly; for now, just know that stemming is the process of determining an uninflected form of words, but it's based purely on character patterns--so each word is treated completely in isolation, with no information about parts of speech.\n",
    "\n",
    "We need to stem the original text, then search for concordances of any tokens that get stemmed to the same value as our input.  Then we run the previous concordance function on those tokens:"
   ]
  },
  {
   "cell_type": "code",
   "execution_count": 3,
   "metadata": {
    "collapsed": true
   },
   "outputs": [
    {
     "name": "stderr",
     "output_type": "stream",
     "text": [
      "c:\\users\\andersonh\\appdata\\local\\programs\\python\\python36\\lib\\site-packages\\gensim\\utils.py:1167: UserWarning: detected Windows; aliasing chunkize to chunkize_serial\n",
      "  warnings.warn(\"detected Windows; aliasing chunkize to chunkize_serial\")\n"
     ]
    },
    {
     "name": "stdout",
     "output_type": "stream",
     "text": [
      "...that land. For, indeed, now I think of it, I can remember th...\n",
      "..., indeed, we had ever need to think more of such. And then, ...\n",
      "...ces on my throat he seemed to think but little, suggesting t...\n",
      "...e; so that I knew not what to think, being near to doubting ...\n",
      "...rawling in the valley. Yet, I think the silences tried us th...\n",
      "...her, and further than this, I think with truth I may say, we...\n",
      "...fter so long upon the sand. I think, even thus early, I had ...\n",
      "...me thus armed, they seemed to think that I intended a jest, ...\n",
      "...ch that it seemed hopeless to think of success; but, for all...\n",
      "...red in me; nor, could I, do I think I would; for were I succ...\n",
      "...d so big and unwieldy. Now, I think that Jessop gathered som...\n",
      "...were both of us young, and, I think, even thus early we attr...\n",
      "...at no decent-minded man could think the worse of her; but th...\n",
      "...ars, and this little thing, I think, brought back more clear...\n",
      "...thing; for I had not dared to think upon that which already ...\n",
      "...our love one for the other, I think yet, and ponder how that...\n",
      "...bo'sun bade him keep silence, thinking it was but a piece of...\n",
      "...ithering sounds. And at that, thinking a host of evil things...\n",
      "...nation, we turned to descend, thinking that this would be th...\n",
      "...h I spent much of my watch in thinking over the details of m...\n",
      "... men had caught their fish--, thinking that, if Tompkins had...\n",
      "...he proceeded to explain that, thinking they were cut off fro...\n",
      "Wall time: 4.85 s\n"
     ]
    }
   ],
   "source": [
    "%%time\n",
    "\n",
    "import re\n",
    "from gensim.parsing.preprocessing import stem_text\n",
    "\n",
    "def stem_concordance(text, token, window=50):\n",
    "    text = re.sub(r\"\\s+\", \" \", text)\n",
    "    # get a unique list of all word-like tokens using a basic regex\n",
    "    word_finder = re.compile(r\"[A-z0-9]+\", re.MULTILINE)\n",
    "    vocab_to_stem = {\n",
    "        i.lower():stem_text(i)\n",
    "        for i in set(word_finder.findall(text))\n",
    "    }\n",
    "    if token.lower().strip() not in vocab_to_stem:\n",
    "        print(\"Token is not in the vocabulary.  Please try again.\")\n",
    "        return\n",
    "    # now flip the dict to {stemmed_form:{set of unstemmed form}}\n",
    "    stem_to_vocab = {i:set() for i in vocab_to_stem.values()}\n",
    "    for i in vocab_to_stem:\n",
    "        stem_to_vocab[vocab_to_stem[i]].add(i.lower())\n",
    "    # look up other tokens that have same stem as input token\n",
    "    stemmed_token = vocab_to_stem[token]\n",
    "    possible_forms = stem_to_vocab[stemmed_token]\n",
    "    \n",
    "    # and now run the previous concordance function.\n",
    "    for i in possible_forms:\n",
    "        concordance(text, i, window=window)\n",
    "\n",
    "glen_carrig = open(\"glen carrig.txt\", \"r\", encoding=\"utf8\").read()\n",
    "stem_concordance(glen_carrig, \"think\", window=30)"
   ]
  },
  {
   "cell_type": "markdown",
   "metadata": {},
   "source": [
    "That added less than a second to the total runtime.  Nice.\n",
    "\n",
    "Now let's do it again, but with spaCy instead of Gensim.  spaCy has built-in tokenization, lemmatization, and more that are all based on large, pre-trained machine learning models.  This will give us much better accuracy--both with tokenizing and lemmatizing--but at the cost of higher runtime.  spaCy also has multiple models to choose from--for English, there's small, medium, and large.  The bigger the model, the better its accuracy, but also the slower it runs.  But since the interface is exactly the same, we'll use the small model for speed.  (the small model is pretty darn good, anyways)\n",
    "\n",
    "We'll also revisit lemmatization in a bit more detail shortly.  The short version: it's like stemming, but it returns a valid, real word corresponding to the uninflected form of a token.  (unlike stemming, which might map \"today\" to the root form \"todai\"--lemmatization would correctly map this to \"today\")."
   ]
  },
  {
   "cell_type": "code",
   "execution_count": 4,
   "metadata": {
    "collapsed": true
   },
   "outputs": [
    {
     "name": "stdout",
     "output_type": "stream",
     "text": [
      "...that land. For, indeed, now I think of it, I can remember th...\n",
      "..., indeed, we had ever need to think more of such. And then, ...\n",
      "...ces on my throat he seemed to think but little, suggesting t...\n",
      "...e; so that I knew not what to think, being near to doubting ...\n",
      "...rawling in the valley. Yet, I think the silences tried us th...\n",
      "...her, and further than this, I think with truth I may say, we...\n",
      "...fter so long upon the sand. I think, even thus early, I had ...\n",
      "...me thus armed, they seemed to think that I intended a jest, ...\n",
      "...ch that it seemed hopeless to think of success; but, for all...\n",
      "...red in me; nor, could I, do I think I would; for were I succ...\n",
      "...d so big and unwieldy. Now, I think that Jessop gathered som...\n",
      "...were both of us young, and, I think, even thus early we attr...\n",
      "...at no decent-minded man could think the worse of her; but th...\n",
      "...ars, and this little thing, I think, brought back more clear...\n",
      "...thing; for I had not dared to think upon that which already ...\n",
      "...our love one for the other, I think yet, and ponder how that...\n",
      "... went hither and thither, the thought that IT--for that is h...\n",
      "...ry of the spring, it might be thought that we should set up ...\n",
      "...upon the trunk. With a sudden thought that it would make me ...\n",
      "... our leaving, he had given no thought to take them with him;...\n",
      "...n here, how that I had little thought all this while for the...\n",
      "...aving no tides; but I had not thought to come upon such an o...\n",
      "...estion, I grew full of solemn thought; for it seemed to me t...\n",
      "...e like for the moment to have thought he had seen a second d...\n",
      "...ght by the weed; and then the thought came to me of the end ...\n",
      "...quito will make; but I had no thought to blame any mosquito....\n",
      "...rooted them. At least, so the thought came to me. And so we ...\n",
      "...er while than hitherto he had thought needful. Having conclu...\n",
      "...s further ahead: but I had no thought for these when I perce...\n",
      "...de. Then, having by this time thought a little upon the matt...\n",
      "...is liking. But it must not be thought that he did naught but...\n",
      "...y an enormous crab. Now I had thought the crab we had tried ...\n",
      "...ll breakers--which we had not thought needful to carry to th...\n",
      "...zon, and there would come the thought to me of the terror of...\n",
      "...hen, even as I fell upon this thought, the bo'sun clapped me...\n",
      "...n in cooler minds, we had not thought strange, seeing that s...\n",
      "...ed too sincerely to have much thought to watch the hulk, whi...\n",
      "...were become so excited at the thought of fellow creatures al...\n",
      "...he rope to us, and at this we thought more upon his saying; ...\n",
      "... happy to tell that we had no thought at this juncture but f...\n",
      "...to a method of rescue. Then a thought came to me (waked perc...\n",
      "... me a short spell of disquiet thought. It was in this wise:-...\n",
      "...n such a sight, and indeed, I thought nothing more of it tha...\n",
      "...ls, and further, I could have thought I perceived a flicker ...\n",
      "...ed it at all such parts as he thought in any way doubtful, a...\n",
      "...tion, and then, suddenly, the thought came to me that the sc...\n",
      "...w I was made to understand my thought of the previous night,...\n",
      "...the first, and then, a sudden thought coming to me, I thrust...\n",
      "...t remained hid. Then a sudden thought came into my brain, an...\n",
      "...y, as a result of some little thought, he brought out from t...\n",
      "...fore the evening. And, at the thought of this, we experience...\n",
      "... the lesser rope; for that he thought they in the ship were ...\n",
      "...t break it, and then a second thought that something might b...\n",
      "...ted within myself at this new thought, as, indeed, was the b...\n",
      "...ly officer remaining to them, thought there might be good ch...\n",
      "...ened the rope so much as they thought proper, they left it t...\n",
      "...rface, and, at that, a sudden thought came to me which sent ...\n",
      "...her; but that I, for my part, thought rather the better, see...\n",
      "...d which had beset them at the thought that they should all o...\n",
      "...such interest since, that the thought of food had escaped me...\n",
      "...r to have stayed, the which I thought, for a moment, had not...\n",
      "...as very terrible, this sudden thought of failure (though it ...\n",
      "...ing gear about it, so that he thought it would be so safe as...\n",
      "...of us in the ship that he had thought to go at that moment; ...\n",
      "...bo'sun bade him keep silence, thinking it was but a piece of...\n",
      "...ithering sounds. And at that, thinking a host of evil things...\n",
      "...nation, we turned to descend, thinking that this would be th...\n",
      "...h I spent much of my watch in thinking over the details of m...\n",
      "... men had caught their fish--, thinking that, if Tompkins had...\n",
      "...he proceeded to explain that, thinking they were cut off fro...\n",
      "Wall time: 4.41 s\n"
     ]
    }
   ],
   "source": [
    "%%time\n",
    "\n",
    "import re\n",
    "import spacy\n",
    "\n",
    "def lemma_concordance(text, token, window=50):\n",
    "    nlp = spacy.load(\"en_core_web_sm\", disable=[\"tagger\", \"parser\", \"ner\"])\n",
    "    \n",
    "    # directly get the mapping of raw form to lemma from spaCy's \n",
    "    # tokenization/stemming\n",
    "    word_finder = re.compile(r\"[A-z0-9]+\", re.MULTILINE)\n",
    "    vocab_to_stem = {\n",
    "        i.lower_:i.lemma_\n",
    "        for i in nlp(text)\n",
    "    }\n",
    "    if token.lower().strip() not in vocab_to_stem:\n",
    "        print(\"Token is not in the vocabulary.  Please try again.\")\n",
    "        return\n",
    "    # now flip the dict to {stemmed_form:{set of unstemmed form}}\n",
    "    stem_to_vocab = {i:set() for i in vocab_to_stem.values()}\n",
    "    for i in vocab_to_stem:\n",
    "        stem_to_vocab[vocab_to_stem[i]].add(i.lower())\n",
    "    \n",
    "    # Now get the stemmed form of the input token and look up\n",
    "    # the list of possible unstemmed forms--this approximates\n",
    "    # finding other inflected forms of the same word.\n",
    "    stemmed_token = vocab_to_stem[token]\n",
    "    possible_forms = stem_to_vocab[stemmed_token]\n",
    "    \n",
    "    # and now run the previous concordance function.\n",
    "    for i in possible_forms:\n",
    "        concordance(text, i, window=window)\n",
    "\n",
    "glen_carrig = open(\"glen carrig.txt\", \"r\", encoding=\"utf8\").read()\n",
    "lemma_concordance(glen_carrig, \"think\", window=30)"
   ]
  },
  {
   "cell_type": "markdown",
   "metadata": {},
   "source": [
    "## N-gram frequencies\n",
    "\n",
    "Python has a number of ways we could find n-grams.  The first is using a pre-built tool, like NLTK's ngrams() function, or a Phrases()/Phraser() combination from Gensim, which are actually used to find multi-word phrases.  Or, we could hack it together ourselves with a few lines of code.\n",
    "\n",
    "First, let's hack it together ourselves.  Then we'll print out the top most common N-grams and plot the frequencies by rank (on a logarithmic scale, naturally.  We're not monsters, after all).  We'll use spaCy's tokenization for maximum accuracy.\n",
    "\n",
    "First, we'll tokenize our document and convert everything to lowercase using spaCy.  We'll also remove punctuation and stopwords while we're at it."
   ]
  },
  {
   "cell_type": "code",
   "execution_count": 5,
   "metadata": {
    "collapsed": true
   },
   "outputs": [
    {
     "name": "stdout",
     "output_type": "stream",
     "text": [
      "Wall time: 4.01 s\n"
     ]
    }
   ],
   "source": [
    "%%time\n",
    "%matplotlib inline\n",
    "\n",
    "from collections import Counter\n",
    "from pprint import pprint\n",
    "import re\n",
    "\n",
    "import matplotlib as mpl\n",
    "import matplotlib.pyplot as plt\n",
    "import spacy\n",
    "\n",
    "# Change this number manually to change the N in the ngrams\n",
    "NGRAM_N = 2\n",
    "\n",
    "# Preprocess the document\n",
    "nlp = spacy.load(\"en_core_web_sm\", disable=[\"tagger\", \"parser\", \"ner\"])\n",
    "doc = open(\"glen carrig.txt\", \"r\", encoding=\"utf8\").read()\n",
    "doc = re.sub(r\"\\s+\", \" \", doc)\n",
    "doc = [\n",
    "    i.lower_ \n",
    "    for i in nlp(doc)\n",
    "    if not i.is_punct\n",
    "    and not i.is_stop\n",
    "]"
   ]
  },
  {
   "cell_type": "markdown",
   "metadata": {},
   "source": [
    "Now, we'll find n-grams by explicitly coding an n-gram finding bit of Python."
   ]
  },
  {
   "cell_type": "code",
   "execution_count": 6,
   "metadata": {
    "collapsed": true
   },
   "outputs": [
    {
     "name": "stdout",
     "output_type": "stream",
     "text": [
      "NGRAM                         \tCOUNT\n",
      "i_saw                         \t51\n",
      "and_i                         \t33\n",
      "i_discovered                  \t28\n",
      "i_perceived                   \t27\n",
      "weed_continent                \t27\n",
      "now_i                         \t26\n",
      "yet_i                         \t26\n",
      "mistress_madison              \t26\n",
      "bo'sun_bade                   \t25\n",
      "then_i                        \t25\n",
      "at_i                          \t23\n",
      "i_found                       \t22\n",
      "i_knew                        \t19\n",
      "second_mate                   \t19\n",
      "bo'sun_'s                     \t18\n",
      "i_heard                       \t18\n",
      "i_went                        \t17\n",
      "and_presently                 \t17\n",
      "i_come                        \t16\n",
      "captain_'s                    \t16\n"
     ]
    },
    {
     "data": {
      "image/png": "[encoded data removed]",
      "text/plain": [
       "<matplotlib.figure.Figure at 0x2200b9e6400>"
      ]
     },
     "metadata": {},
     "output_type": "display_data"
    },
    {
     "name": "stdout",
     "output_type": "stream",
     "text": [
      "Wall time: 843 ms\n"
     ]
    }
   ],
   "source": [
    "%%time\n",
    "%matplotlib inline\n",
    "\n",
    "# change the default matplotlib figure size for Jupyter's sake\n",
    "mpl.rcParams[\"figure.figsize\"] = (10,10)\n",
    "\n",
    "# Find the n-grams with some manual code\n",
    "n_grams = [\n",
    "    \"_\".join(doc[i:i+NGRAM_N]) \n",
    "    for i in range(0, len(doc) - NGRAM_N)\n",
    "]\n",
    "n_grams = Counter(n_grams)\n",
    "\n",
    "# do some prettier formatting than the default printing\n",
    "print(f\"{'NGRAM':<30s}\\tCOUNT\")\n",
    "for i in n_grams.most_common(20):\n",
    "    print(f\"{i[0]:<30s}\\t{i[1]}\")\n",
    "    \n",
    "# Now, let's just plot the counts by rank.\n",
    "counts = sorted(n_grams.values(), reverse=True)\n",
    "plt.plot(counts)\n",
    "plt.yscale(\"log\")\n",
    "plt.xscale(\"log\")\n",
    "plt.title(\"Look at this beautiful Zipf distribution!\")\n",
    "plt.xlabel(\"Rank (log)\")\n",
    "plt.ylabel(\"Count (log)\")\n",
    "plt.show()"
   ]
  },
  {
   "cell_type": "markdown",
   "metadata": {},
   "source": [
    "NLTK's ngrams() function will find ngrams for us, like we just did by hand.  It'll be more readable, but function exactly the same, and run almost exactly as far--so in general, this method might be preferable for most people."
   ]
  },
  {
   "cell_type": "code",
   "execution_count": 7,
   "metadata": {
    "collapsed": true
   },
   "outputs": [
    {
     "name": "stdout",
     "output_type": "stream",
     "text": [
      "NGRAM                         \tCOUNT\n",
      "i_saw                         \t51\n",
      "and_i                         \t33\n",
      "i_discovered                  \t28\n",
      "i_perceived                   \t27\n",
      "weed_continent                \t27\n",
      "now_i                         \t26\n",
      "yet_i                         \t26\n",
      "mistress_madison              \t26\n",
      "bo'sun_bade                   \t25\n",
      "then_i                        \t25\n",
      "at_i                          \t23\n",
      "i_found                       \t22\n",
      "i_knew                        \t19\n",
      "second_mate                   \t19\n",
      "bo'sun_'s                     \t18\n",
      "i_heard                       \t18\n",
      "i_went                        \t17\n",
      "and_presently                 \t17\n",
      "i_come                        \t16\n",
      "captain_'s                    \t16\n"
     ]
    },
    {
     "data": {
      "image/png": "[encoded data removed]",
      "text/plain": [
       "<matplotlib.figure.Figure at 0x2200bc8b7f0>"
      ]
     },
     "metadata": {},
     "output_type": "display_data"
    },
    {
     "name": "stdout",
     "output_type": "stream",
     "text": [
      "Wall time: 3.82 s\n"
     ]
    }
   ],
   "source": [
    "%%time\n",
    "%matplotlib inline\n",
    "\n",
    "from nltk import ngrams\n",
    "\n",
    "# change the default matplotlib figure size for Jupyter's sake\n",
    "mpl.rcParams[\"figure.figsize\"] = (10,10)\n",
    "\n",
    "# Find n-grams\n",
    "n_grams = ngrams(doc, NGRAM_N)\n",
    "n_grams = Counter(n_grams)\n",
    "\n",
    "# do some prettier formatting than the default printing\n",
    "print(f\"{'NGRAM':<30s}\\tCOUNT\")\n",
    "for i in n_grams.most_common(20):\n",
    "    # okay, so the format string changes a little too\n",
    "    print(f\"{'_'.join(i[0]):<30s}\\t{i[1]}\")\n",
    "    \n",
    "# Now, let's just plot the counts by rank.\n",
    "counts = sorted(n_grams.values(), reverse=True)\n",
    "plt.plot(counts)\n",
    "plt.yscale(\"log\")\n",
    "plt.xscale(\"log\")\n",
    "plt.title(\"Look at this beautiful Zipf distribution!\")\n",
    "plt.xlabel(\"Rank (log)\")\n",
    "plt.ylabel(\"Count (log)\")\n",
    "plt.show()"
   ]
  },
  {
   "cell_type": "markdown",
   "metadata": {},
   "source": [
    "## Phrase-finding/collocation analysis\n",
    "\n",
    "Ngrams are fun and all, but what if you want to find multi-word phrases that appear more often than they should by random chance alone (i.e., collocates)?  Well, as before, we could hack a bit of code together, or we could use a pre-built tool from the amazing Gensin library: the [Phrasing tools!](https://radimrehurek.com/gensim/models/phrases.html)  These tools let you scan a(n already processed) corpus of texts, and finds bigrams that are collocated more than the raw prior distributions would indicate.  Then, these tools let you transform your original corpus, replacing these bigrams with a single token.  You can repeat this process all you want to find arbitrarily long phrases.\n",
    "\n",
    "Before doing this, we should run our text through a basic preprocessing pipeline in Gensim.  We'll revisit this in a bit more detail later to talk about what it does; for now, just know that it automates a lot of the basic preprocessing steps for us, like lowercasing, removing stopwords, stemming, etc.\n",
    "\n",
    "We'll use all the default values for our phrasing models except for the threshold (to guarnatee we find at least _some_ phrases for this demo), but they'll be provided explicitly to show how much customization there is.  Note that the phraser expectes a _list of sentences_, i.e. a _list of lists of words._  We don't strictly need to make them the actual sentences; the only reason Gensim says to use sentences is to avoid collocation across sentence boundaries."
   ]
  },
  {
   "cell_type": "code",
   "execution_count": 8,
   "metadata": {
    "collapsed": true
   },
   "outputs": [],
   "source": [
    "import re\n",
    "\n",
    "from gensim.models.phrases import Phrases\n",
    "from gensim.parsing.preprocessing import preprocess_string\n",
    "\n",
    "doc = open(\"glen carrig.txt\", \"r\", encoding=\"utf8\").read()\n",
    "# clean up line breaks and other whitespace issues\n",
    "doc = re.sub(r\"\\s+\", \" \", doc)\n",
    "doc = preprocess_string(doc)\n",
    "phrasing = Phrases(\n",
    "    [doc], # phrases() expects a list of tokenized sentences/documents\n",
    "    min_count=5,\n",
    "    threshold=10,\n",
    "    max_vocab_size=40000000,\n",
    "    delimiter=b\"_\", # this has to be a byte string--just a quirk of this model\n",
    "    progress_per=10000,\n",
    "    scoring=\"default\",\n",
    ")"
   ]
  },
  {
   "cell_type": "markdown",
   "metadata": {},
   "source": [
    "Now, we can look at some of the phrases that our phrase model discovered.  This will print out the phrases in the order they're found in the text, so we might see duplicates."
   ]
  },
  {
   "cell_type": "code",
   "execution_count": 9,
   "metadata": {
    "collapsed": true
   },
   "outputs": [
    {
     "name": "stdout",
     "output_type": "stream",
     "text": [
      "[(b'shook head', 51.86585365853659),\n",
      " (b'shook head', 51.86585365853659),\n",
      " (b'sun bade', 21.133969389783342),\n",
      " (b'sun bade', 21.133969389783342),\n",
      " (b'main cabin', 139.67159277504103),\n",
      " (b'main cabin', 139.67159277504103),\n",
      " (b'captain cabin', 77.1869328493648),\n",
      " (b'big cabin', 33.3307210031348),\n",
      " (b'aboard hulk', 36.35042735042735),\n",
      " (b'main cabin', 139.67159277504103),\n",
      " (b'main cabin', 139.67159277504103),\n",
      " (b'tot rum', 253.1547619047619),\n",
      " (b'captain cabin', 77.1869328493648),\n",
      " (b'captain cabin', 77.1869328493648),\n",
      " (b'captain cabin', 77.1869328493648)]\n"
     ]
    }
   ],
   "source": [
    "from pprint import pprint\n",
    "\n",
    "found_phrases = list(phrasing.export_phrases([doc]))\n",
    "pprint(found_phrases[:15])"
   ]
  },
  {
   "cell_type": "markdown",
   "metadata": {},
   "source": [
    "And, we can transform our original document(s), replacing all of the discovered bigrams with a single token (e.g., `[\"the\", boat\"]` --> `\"the_boat\"`).  Gensim likes to use the indexing syntax to do transformations--it's a bit weird but you get used to it.\n",
    "\n",
    "Note that we'll get a warning from Gensim (warnings are not errors--they're more of a \"heads up, something looks weird here\" sort of notice).  Gensim also has Phraser() objects, which are initialized from a Phrases() object, and are much faster at transforming a corpus.  This only really matters when you're dealing with _massive_ corpora and datasets; for our single book, we don't really need to bother, but I'll show how it would be done anyways."
   ]
  },
  {
   "cell_type": "code",
   "execution_count": 10,
   "metadata": {
    "collapsed": true
   },
   "outputs": [
    {
     "name": "stderr",
     "output_type": "stream",
     "text": [
      "c:\\users\\andersonh\\appdata\\local\\programs\\python\\python36\\lib\\site-packages\\gensim\\models\\phrases.py:486: UserWarning: For a faster implementation, use the gensim.models.phrases.Phraser class\n",
      "  warnings.warn(\"For a faster implementation, use the gensim.models.phrases.Phraser class\")\n"
     ]
    },
    {
     "name": "stdout",
     "output_type": "stream",
     "text": [
      "['befal', 'georg', 'youngest', 'prentic', 'boi', 'seat', 'pluck', 'sleev', 'inquir', 'troubl', 'voic', 'knowledg', 'cry', 'portend', 'shook_head', 'tell', 'know', 'comfort', 'said', 'wind', 'shook_head', 'plain', 'agenc', 'stark', 'calm', 'scarc', 'end', 'remark', 'sad', 'cry', 'appear', 'come', 'far', 'creek', 'far', 'creek', 'inland', 'land', 'sea', 'fill', 'even', 'air', 'dole', 'wail', 'remark', 'curiou', 'sob', 'human', 'despair', 'cry']\n",
      "\n",
      "\n",
      " ['befal', 'georg', 'youngest', 'prentic', 'boi', 'seat', 'pluck', 'sleev', 'inquir', 'troubl', 'voic', 'knowledg', 'cry', 'portend', 'shook_head', 'tell', 'know', 'comfort', 'said', 'wind', 'shook_head', 'plain', 'agenc', 'stark', 'calm', 'scarc', 'end', 'remark', 'sad', 'cry', 'appear', 'come', 'far', 'creek', 'far', 'creek', 'inland', 'land', 'sea', 'fill', 'even', 'air', 'dole', 'wail', 'remark', 'curiou', 'sob', 'human', 'despair', 'cry']\n"
     ]
    }
   ],
   "source": [
    "from gensim.models.phrases import Phraser\n",
    "\n",
    "# transform the text with the original phrases object...\n",
    "phrased_doc = phrasing[doc]\n",
    "print(phrased_doc[500:550])\n",
    "\n",
    "# ...or by creating a new Phraser() from it first.\n",
    "phraser = Phraser(phrasing)\n",
    "phrased_doc = phraser[doc]\n",
    "print('\\n\\n', phrased_doc[500:550])"
   ]
  },
  {
   "cell_type": "markdown",
   "metadata": {},
   "source": [
    "(as you can see, the results of Phrases() and Phraser() are the same--Phraser() will just be _much_ faster, and use much less memory, for very large phrasing passes)."
   ]
  },
  {
   "cell_type": "markdown",
   "metadata": {},
   "source": [
    "# Some more fun demos: Natural Language Processing 101\n",
    "\n",
    "Now, let's do some more interesting demos.  These will focus on more sophisticated (but still \"entry-level\") NLP techniques and tools.\n",
    "\n",
    "We will:\n",
    "* Go from raw data to cleaned, workable text.\n",
    "* Look at some of spaCy and Gensim's text (pre)processing tools\n",
    "* Do some basic topic modeling with Latent Dirichlet Allocation\n",
    "* Do some basic classification and regression tasks with some text."
   ]
  },
  {
   "cell_type": "markdown",
   "metadata": {},
   "source": [
    "## Getting our data"
   ]
  },
  {
   "cell_type": "markdown",
   "metadata": {},
   "source": [
    "The previous demos were very simple (even simplistic) and don't really leverage all the cool stuff Python--or programming in general--can do for you.  Let's work with a non-trivial dataset now and do some more NLP-like work.  We'll use the [Blog Authorship Corpus](http://u.cs.biu.ac.il/~koppel/BlogCorpus.htm).  Download it to the same folder as this notebook, then unzip it into a folder names \"blogs\" (case-sensitive!).\n",
    "\n",
    "Each author's blog posts are stored as a .xml file, named in the following format: \n",
    "\n",
    "`[ID number].[gender].[age].[industry of employment].[astrological sign].xml`\n",
    "\n",
    "E.g., `11253.male.26.Technology.Aquarius.xml`\n",
    "\n",
    "And they contain blog data that looks like this:"
   ]
  },
  {
   "cell_type": "markdown",
   "metadata": {},
   "source": [
    "```\n",
    "<Blog>\n",
    "<date>20,July,2004</date>\n",
    "<post>\n",
    "\n",
    "     \n",
    "      About to go t bed late (again) got sucked into (another) late night film. Tonight was  urlLink Maybe Baby . It was really good made me think, but not about babies. The guy screws up his marriage and it made me think about making sure, everyday, that mine is tip top. If I'm honest there are areas that we are just getting by in - so I need to resolve to sort them out now before they are a problem. In the film they both keep diaries so I thought I should blog tonight.&nbsp;   Weekend was hectic but great fun. Not that long ago k and I had to work on spending time with other people as a couple. This weekend we never ate alone, except breakfast.&nbsp; K, P and I went for a very breif trip on the river saturday durring a gap in the weather. K stripped off and went for a swim, I love her so much.&nbsp;   Tonight we went out for dinner. It was a lovely evening, the first in weeks, so we ate at the Bridge and sat outside, next to the  urlLink river .     \n",
    "     \n",
    "    \n",
    "</post>\n",
    "</Blog>```"
   ]
  },
  {
   "cell_type": "markdown",
   "metadata": {},
   "source": [
    "First thing's first: we need to deal with the XML formatting.  Fortunately, Python has some excellent tools for that, e.g. `xml.etree.ElementTree`.  We'll also want to use a better data structure to represent this text.  There's an absolutely indispensible library called Pandas, which gives you R-style dataframes to work with (and Pandas is probably the single biggest reason that Python has taken over the data science world, demoting R to second-place)."
   ]
  },
  {
   "cell_type": "code",
   "execution_count": 11,
   "metadata": {
    "collapsed": true
   },
   "outputs": [
    {
     "name": "stdout",
     "output_type": "stream",
     "text": [
      "['blogs\\\\1000331.female.37.indUnk.Leo.xml', 'blogs\\\\1000866.female.17.Student.Libra.xml', 'blogs\\\\1004904.male.23.Arts.Capricorn.xml', 'blogs\\\\1005076.female.25.Arts.Cancer.xml', 'blogs\\\\1005545.male.25.Engineering.Sagittarius.xml']\n"
     ]
    }
   ],
   "source": [
    "import os\n",
    "\n",
    "files = [i.path for i in os.scandir(\"blogs\")]\n",
    "print(files[:5])"
   ]
  },
  {
   "cell_type": "markdown",
   "metadata": {},
   "source": [
    "Let's do a first pass where we just try to parse each file, to make sure there are no problems.  (Data validations is a step you _absolutely do not skip_ if you're doing any real data work, after all!)"
   ]
  },
  {
   "cell_type": "code",
   "execution_count": 12,
   "metadata": {
    "collapsed": true
   },
   "outputs": [
    {
     "name": "stdout",
     "output_type": "stream",
     "text": [
      "\n",
      "EXCEPTION ON FILE: blogs\\1000866.female.17.Student.Libra.xml\n",
      "EXCEPTION: not well-formed (invalid token): line 103, column 225\n"
     ]
    }
   ],
   "source": [
    "from xml.etree import ElementTree\n",
    "\n",
    "# sorted() just makes sure the files are always in the same order\n",
    "# for the demos\n",
    "for i in sorted(files):\n",
    "    try:\n",
    "        ElementTree.parse(i)\n",
    "    except Exception as e:\n",
    "        print(\"\\nEXCEPTION ON FILE:\", i)\n",
    "        print(\"EXCEPTION:\", e)\n",
    "        break"
   ]
  },
  {
   "cell_type": "markdown",
   "metadata": {},
   "source": [
    "Uh-oh.  Let's take a look at the file that broke and go see where the problem is.  Fortunately, the error above gave us a line _and_ a column number, so we can go to the exact location where an issue was encountered.\n",
    "\n",
    "```\n",
    "<Blog>\n",
    "[...]\n",
    "\n",
    "<date>14,January,2003</date>\n",
    "<post>\n",
    "\n",
    "\n",
    "      Hehe, just finished dinner! Yum! I'm so happy right now. I don't even know why, I just...am! I'm talking to a bunch of my friends while writing this, which is always fun. Plus I'm doing homework, PLUS I'm watching Law & Order...how massively talented am I? Well, my day was pretty kick butt. Umm, no band OR music theory...very cool, so Kristen and I sat together and did homework and discussed Winter. Next period I hung out with Chris and Kelly for a bit (Alex too for a bit, since he was in Gym) and I left eventually. They started working on music, and...I just always end up feeling left out when they do, so, I try to stay away from those two together in general.Oh well, I went and sat alone in a practice room. Darn...no good stories for the newspaper to write about me. That was a great story, no matter how angry people are about the band comment. I wish people would have read the story actually, instead of reaching paragraph two and deciding it was terrible. Well, anyway, umm...EPVM was interesting. I'm getting nervous about my final. My brother said it was difficult...my brother with the perfect ACT AND SAT scores...arg. I just...wow, I'm so afraid of that test. I'm completely going to fail. Gym...oh jeez...two words  Commando Crawl  OWWWWWWWWWWWWWW  Good lord...that was one of the most painful...oh jeez...just thinking about it. Seriously, if you ever by some chance do that for high ropes...WEAR PANTS! Well, yes...wear pants normally, but don't wear shorts, make sure they are pants, because...it's quite painful if you don't. I made it through though, so it's all good! It just hurt...a lot.   Math, boring, shock shock.  Intervening thought: Why do I always write these while talking to Alex??  Lunch...was interesting. Just hung out with Kelly and Emily some, then Chris and Alex. It was cool...not much to it. Comparative Religion was boring...just, meh, presenting projects...and finally chem...boring, shock shock, and then, I came home, and did stuff, and that is the end of my day...therefore, I shall leave, and go kill alex...I mean...wait...you know NOTHING. You have no evidence...:)\n",
    "\n",
    "</post>\n",
    "```"
   ]
  },
  {
   "cell_type": "markdown",
   "metadata": {},
   "source": [
    "Column numbers aren't displayed in this notebook, but the error is at the ampersand in `Law & Order`.  As it turns out, ampersands are special characters in XML code, and need to be escaped specially (in this case, as `&amp;`).  We could do some manual replacement of characters with the appropriate XML escapes, but that sounds like a lot of work and a lot of room for error.\n",
    "\n",
    "Fortunately, our document structure is so simple that we can just hack this together with regular expressions.  This will be fast, but **is not** how we should in general deal with problematic XML or other markup files--we'd want to use some of Python's more rudimentary tools, like the base HTML or XML parsers, and overwrite their functionality (e.g. by subclassing).\n",
    "\n",
    "We'll create a list of dictionaries (think JSONs), which we can easily pass into Pandas to make a big, beautiful, glorious Dataframe object (which we'll save to a .csv so we can re-open it directly later).  We'll work with this Dataframe for most the rest of this demo.\n",
    "\n",
    "We'll also create a second dataframe, where we only have one entry per author, and concatenate all of their posts together.  We'll use this at the end of the talk for some regression and classification tasks where we're predicting author-level variables, rather than working at the document level."
   ]
  },
  {
   "cell_type": "code",
   "execution_count": 13,
   "metadata": {
    "collapsed": true
   },
   "outputs": [
    {
     "data": {
      "application/vnd.jupyter.widget-view+json": {
       "model_id": "e0cbc84fcbf442d6a7ab4250b04d10fd",
       "version_major": 2,
       "version_minor": 0
      },
      "text/html": [
       "<p>Failed to display Jupyter Widget of type <code>HBox</code>.</p>\n",
       "<p>\n",
       "  If you're reading this message in the Jupyter Notebook or JupyterLab Notebook, it may mean\n",
       "  that the widgets JavaScript is still loading. If this message persists, it\n",
       "  likely means that the widgets JavaScript library is either not installed or\n",
       "  not enabled. See the <a href=\"https://ipywidgets.readthedocs.io/en/stable/user_install.html\">Jupyter\n",
       "  Widgets Documentation</a> for setup instructions.\n",
       "</p>\n",
       "<p>\n",
       "  If you're reading this message in another frontend (for example, a static\n",
       "  rendering on GitHub or <a href=\"https://nbviewer.jupyter.org/\">NBViewer</a>),\n",
       "  it may mean that your frontend doesn't currently support widgets.\n",
       "</p>\n"
      ],
      "text/plain": [
       "HBox(children=(IntProgress(value=0, description='Generating Dataframe', max=19320), HTML(value='')))"
      ]
     },
     "metadata": {},
     "output_type": "display_data"
    },
    {
     "name": "stdout",
     "output_type": "stream",
     "text": [
      "\n",
      "Casting Date column to datetime format.\n",
      "Saving blog dataframe to Blog Data.csv.\n",
      "    Age Author ID              Date  Gender  Industry  \\\n",
      "0    37   1000331       31,May,2004  female    indUnk   \n",
      "1    37   1000331       29,May,2004  female    indUnk   \n",
      "2    37   1000331       28,May,2004  female    indUnk   \n",
      "3    37   1000331       28,May,2004  female    indUnk   \n",
      "4    37   1000331       28,May,2004  female    indUnk   \n",
      "5    37   1000331       28,May,2004  female    indUnk   \n",
      "6    37   1000331      21,June,2004  female    indUnk   \n",
      "7    37   1000331      18,June,2004  female    indUnk   \n",
      "8    37   1000331      15,June,2004  female    indUnk   \n",
      "9    37   1000331      08,June,2004  female    indUnk   \n",
      "10   37   1000331      03,June,2004  female    indUnk   \n",
      "11   37   1000331      02,June,2004  female    indUnk   \n",
      "12   37   1000331      03,July,2004  female    indUnk   \n",
      "0    17   1000866  23,November,2002  female   Student   \n",
      "1    17   1000866  20,November,2002  female   Student   \n",
      "2    17   1000866  19,November,2002  female   Student   \n",
      "3    17   1000866  18,November,2002  female   Student   \n",
      "4    17   1000866  18,November,2002  female   Student   \n",
      "5    17   1000866  18,November,2002  female   Student   \n",
      "6    17   1000866  18,November,2002  female   Student   \n",
      "7    17   1000866  20,December,2002  female   Student   \n",
      "8    17   1000866  18,December,2002  female   Student   \n",
      "9    17   1000866  18,December,2002  female   Student   \n",
      "10   17   1000866  15,December,2002  female   Student   \n",
      "11   17   1000866  15,December,2002  female   Student   \n",
      "12   17   1000866   14,January,2003  female   Student   \n",
      "13   17   1000866   13,January,2003  female   Student   \n",
      "14   17   1000866   13,January,2003  female   Student   \n",
      "15   17   1000866   12,January,2003  female   Student   \n",
      "16   17   1000866   12,January,2003  female   Student   \n",
      "..  ...       ...               ...     ...       ...   \n",
      "28   27    998966      11,July,2004    male    indUnk   \n",
      "0    25    999503      30,June,2004    male  Internet   \n",
      "1    25    999503      28,June,2004    male  Internet   \n",
      "2    25    999503      28,June,2004    male  Internet   \n",
      "3    25    999503      27,June,2004    male  Internet   \n",
      "4    25    999503      21,June,2004    male  Internet   \n",
      "5    25    999503      19,June,2004    male  Internet   \n",
      "6    25    999503      19,June,2004    male  Internet   \n",
      "7    25    999503      15,June,2004    male  Internet   \n",
      "8    25    999503      15,June,2004    male  Internet   \n",
      "9    25    999503      14,June,2004    male  Internet   \n",
      "10   25    999503      10,June,2004    male  Internet   \n",
      "11   25    999503      09,June,2004    male  Internet   \n",
      "12   25    999503      08,June,2004    male  Internet   \n",
      "13   25    999503      08,June,2004    male  Internet   \n",
      "14   25    999503      07,June,2004    male  Internet   \n",
      "15   25    999503      06,June,2004    male  Internet   \n",
      "16   25    999503      06,June,2004    male  Internet   \n",
      "17   25    999503      06,June,2004    male  Internet   \n",
      "18   25    999503      17,July,2004    male  Internet   \n",
      "19   25    999503      15,July,2004    male  Internet   \n",
      "20   25    999503      14,July,2004    male  Internet   \n",
      "21   25    999503      11,July,2004    male  Internet   \n",
      "22   25    999503      06,July,2004    male  Internet   \n",
      "23   25    999503      05,July,2004    male  Internet   \n",
      "24   25    999503      04,July,2004    male  Internet   \n",
      "25   25    999503      03,July,2004    male  Internet   \n",
      "26   25    999503      02,July,2004    male  Internet   \n",
      "27   25    999503      01,July,2004    male  Internet   \n",
      "28   25    999503      01,July,2004    male  Internet   \n",
      "\n",
      "                                                 Post    Sign  \n",
      "0    Well, everyone got up and going this morning....     Leo  \n",
      "1    My four-year old never stops talking. She'll ...     Leo  \n",
      "2    Actually it's not raining yet, but I bought 1...     Leo  \n",
      "3    Ha! Just set up my RSS feed - that is so easy...     Leo  \n",
      "4    Oh, which just reminded me, we were talking a...     Leo  \n",
      "5    I've tried starting blog after blog and it ju...     Leo  \n",
      "6    My 20th high school urlLink reunion is this w...     Leo  \n",
      "7    We always have pizza on Friday nights. It tak...     Leo  \n",
      "8    Okay, I saw it this past weekend. Not as good...     Leo  \n",
      "9    I've been cataloguing film scripts at work. W...     Leo  \n",
      "10   Paul Martin promised today that if he is elec...     Leo  \n",
      "11   No, I still haven't seen it, but apparently i...     Leo  \n",
      "12   Well, it's over! It was good to see so many p...     Leo  \n",
      "0    Yeah, sorry for not writing for a whole there...   Libra  \n",
      "1    Yeah, so today was ok, late arrival. I'm not ...   Libra  \n",
      "2    Yay, Tuesday...no longer Monday! Whoopie! Plu...   Libra  \n",
      "3                                               RAR!    Libra  \n",
      "4    Thought- OK...so, I'm all for midgets and wha...   Libra  \n",
      "5    Yeah, so it's later. My parents found somethi...   Libra  \n",
      "6    Yeah, so this is just a place for me to vent ...   Libra  \n",
      "7    Eventful day...well, sort of. Eventful to me ...   Libra  \n",
      "8    Eventful day...well, sort of. Eventful to me ...   Libra  \n",
      "9    :o) Hey...it looks like Alex. You know, the n...   Libra  \n",
      "10   I'm baaack, well, sort of. I have a lesson so...   Libra  \n",
      "11   Wow, haven't written in a long time. Been pre...   Libra  \n",
      "12   Hehe, just finished dinner! Yum! I'm so happy...   Libra  \n",
      "13   I got so many compliments on my hair! It was ...   Libra  \n",
      "14   Avoiding homework...yet again, shock shock. p...   Libra  \n",
      "15   Welp...haha, what a funny word, perhaps becau...   Libra  \n",
      "16   Yeah, so avoiding homework right now and talk...   Libra  \n",
      "..                                                ...     ...  \n",
      "28   urlLink Awwww... isnt Amy a cutie? Posted by ...  Taurus  \n",
      "0    I have done such a good job for so long pusin...  Cancer  \n",
      "1    I never said this before, but my Dad is in Ja...  Cancer  \n",
      "2    Happy Birthday to me! I will be using urlLink...  Cancer  \n",
      "3    Tomorrow I turn 25. I have made some great pr...  Cancer  \n",
      "4    A bit of lyrical magic for all of you out in ...  Cancer  \n",
      "5    urlLink Are all voluntary acts selfish? Whene...  Cancer  \n",
      "6    \"How do you know the chosen ones? No greater ...  Cancer  \n",
      "7                   All my friends are make believe.   Cancer  \n",
      "8    Last couple of days have been hell at work, l...  Cancer  \n",
      "9    Wow, what a weekend. Aside from one very down...  Cancer  \n",
      "10   The realization Today on my way to lunch I fo...  Cancer  \n",
      "11   Bad workout today, I dunno I guess my mind ju...  Cancer  \n",
      "12   My new obsession. I realized that I have been...  Cancer  \n",
      "13   Nice busy day at work, lots of long boring me...  Cancer  \n",
      "14   If at first you dont succeed.... a) Destroy a...  Cancer  \n",
      "15   Have you ever stopped to think that maybe you...  Cancer  \n",
      "16   Feeling a bit lonely tonight, I will try and ...  Cancer  \n",
      "17   This is the start of my blog. Its a place for...  Cancer  \n",
      "18   You shouldnt expect to learn about someones l...  Cancer  \n",
      "19   When I was a kid I used to pray every night f...  Cancer  \n",
      "20   Another day older, hair thinning, aches and b...  Cancer  \n",
      "21   I don't want to start any blasphemous rumours...  Cancer  \n",
      "22   urlLink something positive - the comic equive...  Cancer  \n",
      "23   Chillin to some groove salad, studying BGP co...  Cancer  \n",
      "24   Today we celebrate our independence day. In h...  Cancer  \n",
      "25   Ugh, I think I have allergies... My nose has ...  Cancer  \n",
      "26   \"Science is like sex; occasionally something ...  Cancer  \n",
      "27   urlLink Dog toy or marital aid I managed 10/1...  Cancer  \n",
      "28   I had a dream last night about a fight when I...  Cancer  \n",
      "\n",
      "[681288 rows x 7 columns]\n",
      "Wall time: 3min 52s\n"
     ]
    }
   ],
   "source": [
    "%%time\n",
    "\n",
    "import os\n",
    "import re\n",
    "\n",
    "from tqdm import tqdm_notebook as tqdm\n",
    "import pandas as pd\n",
    "\n",
    "# pre-compile patterns we'll use a lot--for speed\n",
    "date_finder = re.compile(r\"^<date>(.*?)</date>$\", re.MULTILINE)\n",
    "post_finder = re.compile(r\"^<post>$(.*?)^</post>$\", re.MULTILINE|re.DOTALL)\n",
    "whitespace_cleaner = re.compile(r\"\\s+\", re.MULTILINE)\n",
    "\n",
    "def process_file(infile, by_author=False):\n",
    "    # get the user metadata from the filename\n",
    "    metadata = os.path.split(infile)[-1].split(\".\")\n",
    "    text = open(infile, \"r\", encoding=\"ISO-8859-1\").read()\n",
    "    \n",
    "    # Extract date and post content from the file\n",
    "    dates = date_finder.findall(text)\n",
    "    posts = post_finder.findall(text)\n",
    "    \n",
    "    # assert check will crash our program if it fails--\n",
    "    # this make sure our approach works.\n",
    "    assert len(dates) == len(posts)\n",
    "    if by_author == False:\n",
    "        blog_data = [\n",
    "            {\n",
    "                 \"Author ID\" : metadata[0],\n",
    "                 \"Gender\"    : metadata[1],\n",
    "                 \"Age\"       : int(metadata[2]),\n",
    "                 \"Industry\"  : metadata[3],\n",
    "                 \"Sign\"      : metadata[4],\n",
    "                 \"Date\"      : dates[i],\n",
    "                 \"Post\"      : whitespace_cleaner.sub(\" \", posts[i])\n",
    "            }\n",
    "            for i in range(len(dates))\n",
    "        ]\n",
    "    elif by_author == True:\n",
    "        posts = \" \".join(\n",
    "            whitespace_cleaner.sub(\" \", i)\n",
    "            for i in posts\n",
    "        )\n",
    "        blog_data = {\n",
    "             \"Author ID\" : metadata[0],\n",
    "             \"Gender\"    : metadata[1],\n",
    "             \"Age\"       : int(metadata[2]),\n",
    "             \"Industry\"  : metadata[3],\n",
    "             \"Sign\"      : metadata[4],\n",
    "             \"Posts\"     : posts\n",
    "        }\n",
    "    \n",
    "    return blog_data\n",
    "\n",
    "blog_dataframe = pd.concat(\n",
    "    pd.DataFrame(process_file(i, by_author=False))\n",
    "    for i in tqdm(files, desc=\"Generating Dataframe\")\n",
    ")\n",
    "print(\"Casting Date column to datetime format.\")\n",
    "print(\"Saving blog dataframe to Blog Data.csv.\")\n",
    "blog_dataframe.to_csv(\"corpus data files/Blog Data.csv\", index=False)\n",
    "print(blog_dataframe)"
   ]
  },
  {
   "cell_type": "markdown",
   "metadata": {},
   "source": [
    "And now, the by-author dataframe."
   ]
  },
  {
   "cell_type": "code",
   "execution_count": 14,
   "metadata": {
    "collapsed": true
   },
   "outputs": [
    {
     "data": {
      "application/vnd.jupyter.widget-view+json": {
       "model_id": "f6847cdadfb84c05830369dc7d1eff65",
       "version_major": 2,
       "version_minor": 0
      },
      "text/html": [
       "<p>Failed to display Jupyter Widget of type <code>HBox</code>.</p>\n",
       "<p>\n",
       "  If you're reading this message in the Jupyter Notebook or JupyterLab Notebook, it may mean\n",
       "  that the widgets JavaScript is still loading. If this message persists, it\n",
       "  likely means that the widgets JavaScript library is either not installed or\n",
       "  not enabled. See the <a href=\"https://ipywidgets.readthedocs.io/en/stable/user_install.html\">Jupyter\n",
       "  Widgets Documentation</a> for setup instructions.\n",
       "</p>\n",
       "<p>\n",
       "  If you're reading this message in another frontend (for example, a static\n",
       "  rendering on GitHub or <a href=\"https://nbviewer.jupyter.org/\">NBViewer</a>),\n",
       "  it may mean that your frontend doesn't currently support widgets.\n",
       "</p>\n"
      ],
      "text/plain": [
       "HBox(children=(IntProgress(value=0, description='Generating Dataframe', max=19320), HTML(value='')))"
      ]
     },
     "metadata": {},
     "output_type": "display_data"
    },
    {
     "name": "stdout",
     "output_type": "stream",
     "text": [
      "\n",
      "Saving author dataframe to Author Data.csv.\n",
      "       Age Author ID  Gender              Industry  \\\n",
      "0       37   1000331  female                indUnk   \n",
      "1       17   1000866  female               Student   \n",
      "2       23   1004904    male                  Arts   \n",
      "3       25   1005076  female                  Arts   \n",
      "4       25   1005545    male           Engineering   \n",
      "5       48   1007188    male              Religion   \n",
      "6       26    100812  female          Architecture   \n",
      "7       16   1008329  female               Student   \n",
      "8       25   1009572    male                indUnk   \n",
      "9       27   1011153  female            Technology   \n",
      "10      25   1011289  female                indUnk   \n",
      "11      17   1011311  female                indUnk   \n",
      "12      17   1013637    male            RealEstate   \n",
      "13      23   1015252  female                indUnk   \n",
      "14      34   1015556    male            Technology   \n",
      "15      41   1016560    male            Publishing   \n",
      "16      26   1016738    male            Publishing   \n",
      "17      24   1016787  female  Communications-Media   \n",
      "18      27   1019224  female            RealEstate   \n",
      "19      24   1019622  female                indUnk   \n",
      "20      16   1019710    male               Student   \n",
      "21      25   1021779  female                indUnk   \n",
      "22      23   1022037    male                indUnk   \n",
      "23      17   1022086  female               Student   \n",
      "24      17   1024234  female                indUnk   \n",
      "25      17   1025783  female               Student   \n",
      "26      23   1026164  female             Education   \n",
      "27      15   1026443  female               Student   \n",
      "28      16   1028027  female                indUnk   \n",
      "29      26   1028257    male             Education   \n",
      "...    ...       ...     ...                   ...   \n",
      "19290   25    970774    male               Banking   \n",
      "19291   24    971317  female                indUnk   \n",
      "19292   34    973521  female              Religion   \n",
      "19293   23     97387    male                  Arts   \n",
      "19294   17    977947  female                indUnk   \n",
      "19295   14    978748    male               Student   \n",
      "19296   26    979795    male            Technology   \n",
      "19297   25    980769    male                indUnk   \n",
      "19298   16    980975  female                indUnk   \n",
      "19299   16    983202    male                indUnk   \n",
      "19300   24    983609    male            Non-Profit   \n",
      "19301   27    984615  female            Technology   \n",
      "19302   23    986006  female                indUnk   \n",
      "19303   23    987163  female             Education   \n",
      "19304   16    987614  female               Student   \n",
      "19305   17    988941  female               Student   \n",
      "19306   24    989359  female                  Arts   \n",
      "19307   23    990045  female                indUnk   \n",
      "19308   24    991110  female             Education   \n",
      "19309   17    992078    male                indUnk   \n",
      "19310   34     99290    male              Internet   \n",
      "19311   25     99382    male                indUnk   \n",
      "19312   25    993945  female        HumanResources   \n",
      "19313   27    994348  female                indUnk   \n",
      "19314   17    994616    male               Student   \n",
      "19315   36    996147  female    Telecommunications   \n",
      "19316   25    997488    male                indUnk   \n",
      "19317   16    998237  female                indUnk   \n",
      "19318   27    998966    male                indUnk   \n",
      "19319   25    999503    male              Internet   \n",
      "\n",
      "                                                   Posts         Sign  \n",
      "0       Well, everyone got up and going this morning....          Leo  \n",
      "1       Yeah, sorry for not writing for a whole there...        Libra  \n",
      "2       cupid,please hear my cry, cupid, please let y...    Capricorn  \n",
      "3       and did i mention that i no longer have to de...       Cancer  \n",
      "4       B-Logs: The Business Blogs Paradox urlLink Hi...  Sagittarius  \n",
      "5       1/03 DrKioni.com Awarded ByRegion.net Healers...        Libra  \n",
      "6       Friday My dear wife was walking on her gradua...        Aries  \n",
      "7       Sorry, but I gotta..I couldn't remember the w...       Pisces  \n",
      "8       Planning the Marathon I checked Active.com, a...       Cancer  \n",
      "9       The astute among you will note that this run ...        Virgo  \n",
      "10      MSN conversation: 11.17am Iggbalbollywall ( t...        Libra  \n",
      "11      Hey!!! Tonight kids, I saw Harry Potter and t...      Scorpio  \n",
      "12      Hey you clowns and kids with Down's. Sorry I ...        Virgo  \n",
      "13      aint no such things as halfway crooks. this i...       Pisces  \n",
      "14      well, the retreat was a success, i think. at ...        Virgo  \n",
      "15      In his urlLink February 14, 2003 post Ray Mat...  Sagittarius  \n",
      "16      as astute followers of the urlLink Assistant ...        Libra  \n",
      "17      You love me... I have you here by my side... ...          Leo  \n",
      "18      Dear Susan, You are a fat Wombat... I hate yo...        Libra  \n",
      "19      yay! it changed! :) i think i get it now. you...     Aquarius  \n",
      "20      Yes i survived not eating for 24 hours, I am ...       Pisces  \n",
      "21      IN THE SPACESHIP, THE SILVER SPACESHIPï¿½ I f...      Scorpio  \n",
      "22      Aaaaaahhhh....... mornings! know that it is s...       Cancer  \n",
      "23      All right, I officially live in THE nut house...       Cancer  \n",
      "24      wait...now dat i think about it...dat GBC thi...        Libra  \n",
      "25      Lily's Lullaby- Part SIX It was cold that eve...       Gemini  \n",
      "26      I've posted a new test on my AIM profile...yo...        Aries  \n",
      "27      Hello hello hello again. It's lovely to speak...      Scorpio  \n",
      "28      OK here goes nothing, I'm starting over. My o...        Libra  \n",
      "29      Wednesday of this week, my wife Elizabeth and...        Aries  \n",
      "...                                                  ...          ...  \n",
      "19290   hello   if im a sex and the city fanatic, beb...       Taurus  \n",
      "19291   My very own blog. Reading anya's stuff made m...     Aquarius  \n",
      "19292   The Canadian Anglican Church's top governing ...       Taurus  \n",
      "19293   Folx the good news is that I am most probably...  Sagittarius  \n",
      "19294   Pondering the Mountaintop Hello everybody! I ...        Aries  \n",
      "19295   Yeah, I decided I want to start blogging agai...     Aquarius  \n",
      "19296   One Hundred Fourteen: The divine beauty Of he...       Taurus  \n",
      "19297   In politics there are certain goals, such as ...    Capricorn  \n",
      "19298   Well today was such a change in life.... I ha...       Pisces  \n",
      "19299   GARR!R!!!!!!! Ok, in my german class today we...       Gemini  \n",
      "19300   Tradition Every Halloween week, since I could...       Gemini  \n",
      "19301   Happy Thanksgiving! For those of us who are i...     Aquarius  \n",
      "19302   Can you name these totally awesome chicks fro...       Taurus  \n",
      "19303   Arun: I'm not deviant! Mell: You're Canadian!...          Leo  \n",
      "19304   urlLink cool anime pic.. haha=).. quite into ...       Gemini  \n",
      "19305   No one has joined yet, because I've only just...    Capricorn  \n",
      "19306   I guess I was sort of trying to ignore it, bu...  Sagittarius  \n",
      "19307   (Read of the mo: The End of the Affair - Grah...       Gemini  \n",
      "19308   The other night a friend of mine commented th...     Aquarius  \n",
      "19309   Bush LIED ? That's not possible!!! If your sa...      Scorpio  \n",
      "19310   Another day another post. Anyone else really ...  Sagittarius  \n",
      "19311   GLORP! You will be able to view the old site ...     Aquarius  \n",
      "19312   I AM FREE, FREE AT LAST! Yes people, I have f...          Leo  \n",
      "19313   POX OFF! I was missed by Claudia for days, an...       Pisces  \n",
      "19314   urlLink mental garage (she's nubs) I dont kno...        Libra  \n",
      "19315   Today's Babbling It's grey. It's snowy. And I...          Leo  \n",
      "19316   i'm not feeling introspective today, so i wil...       Cancer  \n",
      "19317   yea well lets see tonight theres a show but i...        Virgo  \n",
      "19318   2:12AM 11/13. I am watching Martha Stewart ma...       Taurus  \n",
      "19319   I have done such a good job for so long pusin...       Cancer  \n",
      "\n",
      "[19320 rows x 6 columns]\n"
     ]
    }
   ],
   "source": [
    "author_dataframe = pd.DataFrame([\n",
    "    process_file(i, by_author=True) \n",
    "    for i in tqdm(files, desc=\"Generating Dataframe\")\n",
    "])\n",
    "print(\"Saving author dataframe to Author Data.csv.\")\n",
    "author_dataframe.to_csv(\"corpus data files/Author Data.csv\", index=False)\n",
    "print(author_dataframe)\n",
    "del author_dataframe"
   ]
  },
  {
   "cell_type": "markdown",
   "metadata": {},
   "source": [
    "There are a lot of entries in these dataframes.  And the saved CSV is 765MB (!!!) on my machine."
   ]
  },
  {
   "cell_type": "code",
   "execution_count": 15,
   "metadata": {
    "collapsed": true
   },
   "outputs": [
    {
     "name": "stdout",
     "output_type": "stream",
     "text": [
      "Number of posts:             681,288\n",
      "Number of authors:           19,320\n",
      "Approximate number of words: 136,854,709\n"
     ]
    }
   ],
   "source": [
    "num_words = sum(len(i.split()) for i in blog_dataframe[\"Post\"])\n",
    "num_authors = blog_dataframe['Author ID'].nunique()\n",
    "print(f\"Number of posts:             {blog_dataframe.shape[0]:,}\")\n",
    "print(f\"Number of authors:           {num_authors:,}\")\n",
    "print(f\"Approximate number of words: {num_words:,}\")"
   ]
  },
  {
   "cell_type": "markdown",
   "metadata": {},
   "source": [
    "Now, let's look at some of the ways we can process this text with various libraries.  We'll use the very first blog post as an working example to show what some of these processes do."
   ]
  },
  {
   "cell_type": "code",
   "execution_count": 16,
   "metadata": {
    "collapsed": true
   },
   "outputs": [
    {
     "name": "stdout",
     "output_type": "stream",
     "text": [
      " Well, everyone got up and going this morning. It's still raining, but that's okay with me. Sort of suits my mood. I could easily have stayed home in bed with my book and the cats. This has been a lot of rain though! People have wet basements, there are lakes where there should be golf courses and fields, everything is green, green, green. But, it is supposed to be 26 degrees by Friday, so we'll be dealing with mosquitos next week. I heard Winnipeg described as an \"Old Testament\" city on urlLink CBC Radio One last week and it sort of rings true. Floods, infestations, etc., etc.. \n"
     ]
    }
   ],
   "source": [
    "demo_post = list(blog_dataframe[\"Post\"])[0]\n",
    "print(demo_post)"
   ]
  },
  {
   "cell_type": "markdown",
   "metadata": {},
   "source": [
    "## Before we continue: some basic NLP ideas"
   ]
  },
  {
   "cell_type": "markdown",
   "metadata": {},
   "source": [
    "### The big challenge: Sparsity\n",
    "\n",
    "NLP is fundamentally a branch of machine learning (ML) that focuses just on language data.  As such, it inherits a lot of ideas and concerns from ML.  One of the biggest ones is _sparsity_.  Sparsity is the phenomenon of having a lot of features with \"null\" values for a lot of your observations (this usually manifests as \"missing data\" or \"zero\").\n",
    "\n",
    "In language, sparsity is everywhere, since _most utterances don't use most features._  So if we want to categorize any non-trivial corpus of language data, we'll need a _lot_ of features, but most of them won't appear in most of our utterances.\n",
    "\n",
    "Sparsity is bad.  It makes models have less data to work with for finding patterns, and thus, models will tend to overfit--they'll fit very well to the _current data,_ but will generalize poorly to new data.  Thus, almost all of the work in NLP is actually geared at finding ways to reduce sparsity in language data."
   ]
  },
  {
   "cell_type": "markdown",
   "metadata": {},
   "source": [
    "### Data at scale\n",
    "\n",
    "All of the models of language used in the NLP community are essentially data-driven.  Rules-based models are all but completely dead.\n",
    "\n",
    "This means that models love data.  More data is better than less, and will make better models, since they're ultimately statistically-based models.\n",
    "\n",
    "But more data means more computing time.  So, we strive to build models that balance computational efficiency against power and accuracy.  As it turns out, one of the best ways to do this is to get a basic, but working, model of language, and just train it on a massive dataset.  Your results may not be perfectly accurate for every single document, but they should be pretty accurate for the whole dataset, and generally accurate for most documents, if you do it right.\n",
    "\n",
    "Bear in mind: computational approaches care about balancing precision and recall, but they often come at the expense of the other."
   ]
  },
  {
   "cell_type": "markdown",
   "metadata": {},
   "source": [
    "### A good enough model of language\\*: Just count the words!\n",
    "\\* _At least, for many basic purposes._\n",
    "\n",
    "One of the ways to deal with sparsity is to just ignore certain classes of features and focus on a richer subset.  As it turns out, we can do a surprisingly large amount by ignoring every aspect of language except for _what lexical units are used_ and _how often they are used_.  I.e., ignore syntax, ignore pragmatics, ignore even semantics--just count words.\n",
    "\n",
    "It's a brutally simplistic model of language.  But for many tasks, it works, and it is useful.  Consider: if my task is to find out \"what are people talking about,\" e.g. tracking discussions on Twitter at a large scale, looking at the words used is probably going to be my fastest way to get to that.\n",
    "\n",
    "Equally important, this is a _computationally_ simple, straightforward, and fast approach."
   ]
  },
  {
   "cell_type": "markdown",
   "metadata": {},
   "source": [
    "### Reducing sparsity through preprocessing\n",
    "\n",
    "One of the most important ways to reduce sparsity is through preprocessing your data. We want to \"condense\" the data down to a still meaningful representation that irons out all the noise.  E.g., we often want everything to be in the same casee, because computers think that \"WORD\" (in uppercase) is different from \"word\", \"Word\", \"WoRd\", etc, and does not see any similarities between these tokens unless we explicitly tell it.\n",
    "\n",
    "When we're doing a word-counting type analysis, remember that we're trying to get at a dense representation of the _content_ of our data.  Some common preprocessing steps to that end are:\n",
    "* Convert to lowercase\n",
    "* (Sometimes, but not always) De-accent characters, e.g. convert \"â\" to \"a\".\n",
    "* Tokenize, i.e. split a doucment into a list of tokens (words, punctuation, etc)\n",
    "* Remove tokens:\n",
    "  * _Stopwords_ (generally, _function_ words), e.g. \"the\", \"a\", \"to\", etc.\n",
    "  * Words with very low frequencies (contain very little information, and are not useful)\n",
    "  * Words with extremely high _document-wise_ frequencies (these don't help us discriminate between documents in our corpus)\n",
    "* Stem, or lemmatize, the text (not always--depends on the analysis!)\n",
    "  * Stemming is significantly faster, but lemmatization can be more accurate.\n",
    "  * But for downstream tasks and analysis, both stemming and lemmatization tend to perform about the same.\n",
    "* Find multi-word phrases\n",
    "  * This might add features, but those features may be more meaningful than individual word counts.\n",
    "\n",
    "In almost all cases, these steps are followed by generating a _vectorized_ representation of the text--e.g. Bag-of-Words, Word2Vec, Doc2Vec, GloVe, etc.  These vector representations can then be used for any quantitative, statistical, or machine learning analyses, e.g. regressions and classifications.\n",
    "\n",
    "For other analyses (rather than just counting words), we might be interested in preserving more sophisticated, perhaps structural, features of the text:\n",
    "* Identifying (named) entities\n",
    "* Identifying noun chunks (more or less NPs/DPs)\n",
    "* Syntactic parsing (dependency and constituent parsing are most common)\n",
    "* Part-of-speech tagging\n",
    "\n",
    "As for the actual analyses we might do, they are many:\n",
    "* Topic modeling\n",
    "* Document scoring/classification (e.g., author identification)\n",
    "\n",
    "The rest of this notebook is a whirlwind tour through some of these capabilities in Python."
   ]
  },
  {
   "cell_type": "markdown",
   "metadata": {},
   "source": [
    "## Preprocessing\n",
    "\n",
    "We can use the two excellent libraries we've already seen: spaCy and Gensim.\n",
    "\n",
    "Gensim is a much _faster_ library for preprocessing, since it only operates based on raw string patterns and is designed to be fast and scale to massive datasets.  There is the assumption that any error we induce through the very simplistic approaches will be balanced out by the amount of data we work with--generally a good, and correct, assumption.  Gensim does no syntactic parsing, POS tagging, or other such structure-related analysis, but it's not designed for that.\n",
    "\n",
    "spaCy is the much _more accurate_ library, since it parses text based on large, powerful pre-trained models (think Stanford's CoreNLP toolkit--it's very much analogous to that).  While still very fast, spaCy is painfully slow compared to Gensim.  But, it has a far more robust tokenizer, it can do part-of-speech tagging, lemmatization, dependency parsing, entity and noun chunk identification, and it even has pre-trained word vectors (and can easily compute vectors for strings of words or entire documents)."
   ]
  },
  {
   "cell_type": "markdown",
   "metadata": {},
   "source": [
    "### Gensim\n",
    "\n",
    "Let's first look at Gensim's preprocessing.  There's one function--`gensim.parsing.preprocessing.preprocess_string()`--which encompasses almost all the basic functions we need: lowercasing, de-accenting, tokenizing, stemming (with the Porter stemmer algorithm), stopword removal, removal of numbers, and removal of very short words (which are generally noise to use).\n",
    "\n",
    "We can also use the Phrases()/Phraser() objects we saw before to find multi-word phrases with ease, though given the size of our demo post, we won't see any show up.  We probably want to do this _after_ we run the main preprocessing."
   ]
  },
  {
   "cell_type": "code",
   "execution_count": 17,
   "metadata": {
    "collapsed": true
   },
   "outputs": [
    {
     "name": "stderr",
     "output_type": "stream",
     "text": [
      "c:\\users\\andersonh\\appdata\\local\\programs\\python\\python36\\lib\\site-packages\\gensim\\models\\phrases.py:486: UserWarning: For a faster implementation, use the gensim.models.phrases.Phraser class\n",
      "  warnings.warn(\"For a faster implementation, use the gensim.models.phrases.Phraser class\")\n"
     ]
    },
    {
     "name": "stdout",
     "output_type": "stream",
     "text": [
      "Original post:\n",
      " Well, everyone got up and going this morning. It's still raining, but that's okay with me. Sort of suits my mood. I could easily have stayed home in bed with my book and the cats. This has been a lot of rain though! People have wet basements, there are lakes where there should be golf courses and fields, everything is green, green, green. But, it is supposed to be 26 degrees by Friday, so we'll be dealing with mosquitos next week. I heard Winnipeg described as an \"Old Testament\" city on urlLink CBC Radio One last week and it sort of rings true. Floods, infestations, etc., etc.. \n",
      "\n",
      "After Gensim preprocessing:\n",
      "got go morn rain okai sort suit mood easili stai home bed book cat lot rain peopl wet basement lake golf cours field green green green suppos degre fridai deal mosquito week heard winnipeg describ old testament citi urllink cbc radio week sort ring true flood infest\n"
     ]
    }
   ],
   "source": [
    "from gensim.models.phrases import Phrases\n",
    "from gensim.parsing.preprocessing import preprocess_string\n",
    "\n",
    "processed = preprocess_string(demo_post)\n",
    "phrases = Phrases(processed)\n",
    "processed = list(phrases[processed])\n",
    "\n",
    "print(\"Original post:\")\n",
    "print(demo_post)\n",
    "\n",
    "print(\"\\nAfter Gensim preprocessing:\")\n",
    "print(\" \".join(processed))"
   ]
  },
  {
   "cell_type": "markdown",
   "metadata": {},
   "source": [
    "Notice how the Porter Stemmer finds the uninflected forms of words.  It bases its processing _purely_ on the _letters of a word_.  This makes it fast, but it doesn't always give real words or the most correct forms, e.g. `\"morning\"` --> `\"morn\"`, and `\"okay\"` --> `\"okai\"`.  But, for most text mining or NLP tasks, this is actually not that big of an issue.  This only _really_ matters, in any practical sense, for human interpretation--which, admittedly, is a non-trivial concern."
   ]
  },
  {
   "cell_type": "markdown",
   "metadata": {},
   "source": [
    "### spaCy\n",
    "\n",
    "spaCy requires us to load models in, as we saw earlier when doing stem-based concordancing.  As before, we'll use their small English model, but we would just change the model name in `spacy.load()` if we wanted a different model. The small model will generally be a bit faster, which is all we need for this demo's purposes.\n",
    "\n",
    "As before, applying the spaCy pipeline is easy, though we do need to manually filter our stopwords and punctuation with some explicit checks.  And as with the Gensim examples, we'll run the Phrases() model on our post, though as before we won't see any changes."
   ]
  },
  {
   "cell_type": "code",
   "execution_count": 18,
   "metadata": {
    "collapsed": true
   },
   "outputs": [
    {
     "name": "stderr",
     "output_type": "stream",
     "text": [
      "c:\\users\\andersonh\\appdata\\local\\programs\\python\\python36\\lib\\site-packages\\gensim\\models\\phrases.py:486: UserWarning: For a faster implementation, use the gensim.models.phrases.Phraser class\n",
      "  warnings.warn(\"For a faster implementation, use the gensim.models.phrases.Phraser class\")\n"
     ]
    },
    {
     "name": "stdout",
     "output_type": "stream",
     "text": [
      "Original post:\n",
      " Well, everyone got up and going this morning. It's still raining, but that's okay with me. Sort of suits my mood. I could easily have stayed home in bed with my book and the cats. This has been a lot of rain though! People have wet basements, there are lakes where there should be golf courses and fields, everything is green, green, green. But, it is supposed to be 26 degrees by Friday, so we'll be dealing with mosquitos next week. I heard Winnipeg described as an \"Old Testament\" city on urlLink CBC Radio One last week and it sort of rings true. Floods, infestations, etc., etc.. \n",
      "\n",
      "After spaCy preprocessing:\n",
      "  well get go morning -PRON- be rain be okay sort suit mood -PRON- easily stay home bed book cat this lot rain people wet basement lake golf course field green green green but suppose 26 degree friday will deal mosquito week -PRON- hear winnipeg describe old testament city urllink cbc radio one week sort ring true flood infestation etc etc\n",
      "Wall time: 957 ms\n"
     ]
    }
   ],
   "source": [
    "%%time\n",
    "\n",
    "from gensim.models.phrases import Phrases\n",
    "import spacy\n",
    "\n",
    "nlp = spacy.load(\"en_core_web_sm\")\n",
    "processed = [\n",
    "    i.lemma_\n",
    "    for i in nlp(demo_post)\n",
    "    if i.is_stop == False\n",
    "    and i.is_punct == False\n",
    "]\n",
    "phrases = Phrases(processed)\n",
    "processed = list(phrases[processed])\n",
    "\n",
    "print(\"Original post:\")\n",
    "print(demo_post)\n",
    "\n",
    "print(\"\\nAfter spaCy preprocessing:\")\n",
    "print(\" \".join(processed))"
   ]
  },
  {
   "cell_type": "markdown",
   "metadata": {},
   "source": [
    "Notice how the processed text is much more _human-readable_ with this approach (this is due to the use of a lemmatizer, rather than a stemmer).  While nice for reporting and inspecting results, the extra overhead in runtime (not evident in this small example) might make this an unreasonable proposition for large datasets if time is an issue.  And, as mentioned earlier, if you're doing an _automated analysis_ of your text later, there isn't always a big difference, if any, in how well stemming versus lemmatization performs."
   ]
  },
  {
   "cell_type": "markdown",
   "metadata": {},
   "source": [
    "## A Detour through Linguistic Analysis with spaCy\n",
    "\n",
    "spaCy's language models have a LOT of functionality.  Let's look at just some of the most easily accessible ones.\n",
    "\n",
    "First, we've already seen spaCy's ability to do lemmatization, stopword tagging, and punctuation tagging."
   ]
  },
  {
   "cell_type": "code",
   "execution_count": 19,
   "metadata": {
    "collapsed": true
   },
   "outputs": [
    {
     "name": "stdout",
     "output_type": "stream",
     "text": [
      "Token          \tLemma          \tIs stopword?   \t Is punctuation?\n",
      "               \t               \tFalse          \tFalse\n",
      "Well           \twell           \tFalse          \tFalse\n",
      ",              \t,              \tFalse          \tTrue\n",
      "everyone       \teveryone       \tTrue           \tFalse\n",
      "got            \tget            \tFalse          \tFalse\n",
      "up             \tup             \tTrue           \tFalse\n",
      "and            \tand            \tTrue           \tFalse\n",
      "going          \tgo             \tFalse          \tFalse\n",
      "this           \tthis           \tTrue           \tFalse\n",
      "morning        \tmorning        \tFalse          \tFalse\n",
      ".              \t.              \tFalse          \tTrue\n",
      "It             \t-PRON-         \tFalse          \tFalse\n",
      "'s             \tbe             \tFalse          \tFalse\n",
      "still          \tstill          \tTrue           \tFalse\n",
      "raining        \train           \tFalse          \tFalse\n"
     ]
    }
   ],
   "source": [
    "import spacy\n",
    "\n",
    "nlp = spacy.load(\"en_core_web_sm\")\n",
    "\n",
    "print(f\"{'Token':<15s}\\t{'Lemma':<15s}\\t{'Is stopword?':<15s}\\t Is punctuation?\")\n",
    "for i in nlp(demo_post)[:15]:\n",
    "    token = i.text\n",
    "    lemma = i.lemma_\n",
    "    is_stop = str(i.is_stop)\n",
    "    is_punct = str(i.is_punct)\n",
    "    print(f\"{token:<15s}\\t{lemma:<15s}\\t{is_stop:<15s}\\t{is_punct}\")"
   ]
  },
  {
   "cell_type": "markdown",
   "metadata": {},
   "source": [
    "And, we can also do part-of-speech tagging."
   ]
  },
  {
   "cell_type": "code",
   "execution_count": 20,
   "metadata": {
    "collapsed": true
   },
   "outputs": [
    {
     "name": "stdout",
     "output_type": "stream",
     "text": [
      "TOKEN          \tCOARSE POS       \tFINE POS\n",
      "               \tSPACE            \t\n",
      "Well           \tINTJ             \tUH\n",
      ",              \tPUNCT            \t,\n",
      "everyone       \tNOUN             \tNN\n",
      "got            \tVERB             \tVBD\n",
      "up             \tPART             \tRP\n",
      "and            \tCCONJ            \tCC\n",
      "going          \tVERB             \tVBG\n",
      "this           \tDET              \tDT\n",
      "morning        \tNOUN             \tNN\n",
      ".              \tPUNCT            \t.\n",
      "It             \tPRON             \tPRP\n",
      "'s             \tVERB             \tVBZ\n",
      "still          \tADV              \tRB\n",
      "raining        \tVERB             \tVBG\n"
     ]
    }
   ],
   "source": [
    "print(f\"{'TOKEN':<15s}\\t{'COARSE POS':<17s}\\t{'FINE POS'}\")\n",
    "for i in nlp(demo_post)[:15]:\n",
    "    token = i.text\n",
    "    coarse = i.pos_\n",
    "    fine = i.tag_\n",
    "    print(f\"{token:<15s}\\t{coarse:<17s}\\t{fine}\")"
   ]
  },
  {
   "cell_type": "markdown",
   "metadata": {},
   "source": [
    "Entity recognition..."
   ]
  },
  {
   "cell_type": "code",
   "execution_count": 21,
   "metadata": {
    "collapsed": true
   },
   "outputs": [
    {
     "name": "stdout",
     "output_type": "stream",
     "text": [
      "[this morning,\n",
      " 26 degrees,\n",
      " Friday,\n",
      " next week,\n",
      " Winnipeg,\n",
      " an \"Old Testament\",\n",
      " CBC Radio,\n",
      " One last week,\n",
      " Floods]\n"
     ]
    }
   ],
   "source": [
    "from pprint import pprint\n",
    "ents = nlp(demo_post).ents\n",
    "pprint(list(ents))"
   ]
  },
  {
   "cell_type": "markdown",
   "metadata": {},
   "source": [
    "Noun chunk identification..."
   ]
  },
  {
   "cell_type": "code",
   "execution_count": 22,
   "metadata": {
    "collapsed": true
   },
   "outputs": [
    {
     "name": "stdout",
     "output_type": "stream",
     "text": [
      "[everyone,\n",
      " It,\n",
      " me,\n",
      " Sort of suits,\n",
      " my mood,\n",
      " I,\n",
      " bed,\n",
      " my book,\n",
      " the cats,\n",
      " a lot,\n",
      " rain,\n",
      " People,\n",
      " wet basements,\n",
      " lakes,\n",
      " golf courses,\n",
      " fields,\n",
      " everything,\n",
      " it,\n",
      " 26 degrees,\n",
      " Friday,\n",
      " we,\n",
      " mosquitos,\n",
      " I,\n",
      " Winnipeg,\n",
      " an \"Old Testament\" city,\n",
      " it,\n",
      " Floods,\n",
      " infestations]\n"
     ]
    }
   ],
   "source": [
    "from pprint import pprint\n",
    "noun_chunks = nlp(demo_post).noun_chunks\n",
    "pprint(list(noun_chunks))"
   ]
  },
  {
   "cell_type": "markdown",
   "metadata": {},
   "source": [
    "And, as we might suspect from the above information, spaCy also does dependency parsing."
   ]
  },
  {
   "cell_type": "code",
   "execution_count": 23,
   "metadata": {
    "collapsed": true
   },
   "outputs": [
    {
     "name": "stdout",
     "output_type": "stream",
     "text": [
      "TOKEN          \tHEAD           \tDEPENDENCY RELATION \tCHILDREN\n",
      "               \tWell           \t                    \t\n",
      "Well           \tgot            \tintj                \t \n",
      ",              \tgot            \tpunct               \t\n",
      "everyone       \tgot            \tnsubj               \t\n",
      "got            \tgot            \tROOT                \tWell, everyone, up, and, going\n",
      "up             \tgot            \tprt                 \t\n",
      "and            \tgot            \tcc                  \t\n",
      "going          \tgot            \tconj                \tmorning\n",
      "this           \tmorning        \tdet                 \t\n",
      "morning        \tgoing          \tnpadvmod            \tthis\n",
      ".              \tgot            \tpunct               \t\n",
      "It             \training        \tnsubj               \t\n",
      "'s             \training        \taux                 \t\n",
      "still          \training        \tadvmod              \t\n",
      "raining        \training        \tROOT                \tIt, 's, still, but, 's\n",
      ",              \training        \tpunct               \t\n",
      "but            \training        \tcc                  \t\n",
      "that           \t's             \tnsubj               \t\n",
      "'s             \training        \tconj                \tthat, okay, with\n",
      "okay           \t's             \tacomp               \t\n",
      "with           \t's             \tprep                \tme\n",
      "me             \twith           \tpobj                \t\n",
      ".              \t's             \tpunct               \t\n",
      "Sort           \tof             \tadvmod              \t\n",
      "of             \tsuits          \tadvmod              \tSort\n"
     ]
    }
   ],
   "source": [
    "print(f\"{'TOKEN':<15s}\\t{'HEAD':<15s}\\t{'DEPENDENCY RELATION':<20s}\\t{'CHILDREN'}\")\n",
    "for i in nlp(demo_post)[:25]:\n",
    "    token = i.text\n",
    "    head = i.head.text\n",
    "    dep = i.dep_\n",
    "    children = \", \".join(c.text for c in i.children if not c.is_punct)\n",
    "    print(f\"{token:<15s}\\t{head:<15s}\\t{dep:<20s}\\t{children}\")"
   ]
  },
  {
   "cell_type": "markdown",
   "metadata": {},
   "source": [
    "We can use the built-in disiplaCy tool to generate a visualization of the dependency parse (though only of the first sentence, for space's sake):"
   ]
  },
  {
   "cell_type": "code",
   "execution_count": 24,
   "metadata": {
    "collapsed": true
   },
   "outputs": [
    {
     "data": {
      "text/html": [
       "<svg xmlns=\"http://www.w3.org/2000/svg\" xmlns:xlink=\"http://www.w3.org/1999/xlink\" id=\"0\" class=\"displacy\" width=\"1450\" height=\"399.5\" style=\"max-width: none; height: 399.5px; color: #000000; background: #ffffff; font-family: Arial\">\n",
       "<text class=\"displacy-token\" fill=\"currentColor\" text-anchor=\"middle\" y=\"309.5\">\n",
       "    <tspan class=\"displacy-word\" fill=\"currentColor\" x=\"50\">Well,</tspan>\n",
       "    <tspan class=\"displacy-tag\" dy=\"2em\" fill=\"currentColor\" x=\"50\">INTJ</tspan>\n",
       "</text>\n",
       "\n",
       "<text class=\"displacy-token\" fill=\"currentColor\" text-anchor=\"middle\" y=\"309.5\">\n",
       "    <tspan class=\"displacy-word\" fill=\"currentColor\" x=\"225\">everyone</tspan>\n",
       "    <tspan class=\"displacy-tag\" dy=\"2em\" fill=\"currentColor\" x=\"225\">NOUN</tspan>\n",
       "</text>\n",
       "\n",
       "<text class=\"displacy-token\" fill=\"currentColor\" text-anchor=\"middle\" y=\"309.5\">\n",
       "    <tspan class=\"displacy-word\" fill=\"currentColor\" x=\"400\">got</tspan>\n",
       "    <tspan class=\"displacy-tag\" dy=\"2em\" fill=\"currentColor\" x=\"400\">VERB</tspan>\n",
       "</text>\n",
       "\n",
       "<text class=\"displacy-token\" fill=\"currentColor\" text-anchor=\"middle\" y=\"309.5\">\n",
       "    <tspan class=\"displacy-word\" fill=\"currentColor\" x=\"575\">up</tspan>\n",
       "    <tspan class=\"displacy-tag\" dy=\"2em\" fill=\"currentColor\" x=\"575\">PART</tspan>\n",
       "</text>\n",
       "\n",
       "<text class=\"displacy-token\" fill=\"currentColor\" text-anchor=\"middle\" y=\"309.5\">\n",
       "    <tspan class=\"displacy-word\" fill=\"currentColor\" x=\"750\">and</tspan>\n",
       "    <tspan class=\"displacy-tag\" dy=\"2em\" fill=\"currentColor\" x=\"750\">CCONJ</tspan>\n",
       "</text>\n",
       "\n",
       "<text class=\"displacy-token\" fill=\"currentColor\" text-anchor=\"middle\" y=\"309.5\">\n",
       "    <tspan class=\"displacy-word\" fill=\"currentColor\" x=\"925\">going</tspan>\n",
       "    <tspan class=\"displacy-tag\" dy=\"2em\" fill=\"currentColor\" x=\"925\">VERB</tspan>\n",
       "</text>\n",
       "\n",
       "<text class=\"displacy-token\" fill=\"currentColor\" text-anchor=\"middle\" y=\"309.5\">\n",
       "    <tspan class=\"displacy-word\" fill=\"currentColor\" x=\"1100\">this</tspan>\n",
       "    <tspan class=\"displacy-tag\" dy=\"2em\" fill=\"currentColor\" x=\"1100\">DET</tspan>\n",
       "</text>\n",
       "\n",
       "<text class=\"displacy-token\" fill=\"currentColor\" text-anchor=\"middle\" y=\"309.5\">\n",
       "    <tspan class=\"displacy-word\" fill=\"currentColor\" x=\"1275\">morning.</tspan>\n",
       "    <tspan class=\"displacy-tag\" dy=\"2em\" fill=\"currentColor\" x=\"1275\">NOUN</tspan>\n",
       "</text>\n",
       "\n",
       "<g class=\"displacy-arrow\">\n",
       "    <path class=\"displacy-arc\" id=\"arrow-0-0\" stroke-width=\"2px\" d=\"M70,264.5 C70,89.5 395.0,89.5 395.0,264.5\" fill=\"none\" stroke=\"currentColor\"/>\n",
       "    <text dy=\"1.25em\" style=\"font-size: 0.8em; letter-spacing: 1px\">\n",
       "        <textPath xlink:href=\"#arrow-0-0\" class=\"displacy-label\" startOffset=\"50%\" fill=\"currentColor\" text-anchor=\"middle\">intj</textPath>\n",
       "    </text>\n",
       "    <path class=\"displacy-arrowhead\" d=\"M70,266.5 L62,254.5 78,254.5\" fill=\"currentColor\"/>\n",
       "</g>\n",
       "\n",
       "<g class=\"displacy-arrow\">\n",
       "    <path class=\"displacy-arc\" id=\"arrow-0-1\" stroke-width=\"2px\" d=\"M245,264.5 C245,177.0 390.0,177.0 390.0,264.5\" fill=\"none\" stroke=\"currentColor\"/>\n",
       "    <text dy=\"1.25em\" style=\"font-size: 0.8em; letter-spacing: 1px\">\n",
       "        <textPath xlink:href=\"#arrow-0-1\" class=\"displacy-label\" startOffset=\"50%\" fill=\"currentColor\" text-anchor=\"middle\">nsubj</textPath>\n",
       "    </text>\n",
       "    <path class=\"displacy-arrowhead\" d=\"M245,266.5 L237,254.5 253,254.5\" fill=\"currentColor\"/>\n",
       "</g>\n",
       "\n",
       "<g class=\"displacy-arrow\">\n",
       "    <path class=\"displacy-arc\" id=\"arrow-0-2\" stroke-width=\"2px\" d=\"M420,264.5 C420,177.0 565.0,177.0 565.0,264.5\" fill=\"none\" stroke=\"currentColor\"/>\n",
       "    <text dy=\"1.25em\" style=\"font-size: 0.8em; letter-spacing: 1px\">\n",
       "        <textPath xlink:href=\"#arrow-0-2\" class=\"displacy-label\" startOffset=\"50%\" fill=\"currentColor\" text-anchor=\"middle\">prt</textPath>\n",
       "    </text>\n",
       "    <path class=\"displacy-arrowhead\" d=\"M565.0,266.5 L573.0,254.5 557.0,254.5\" fill=\"currentColor\"/>\n",
       "</g>\n",
       "\n",
       "<g class=\"displacy-arrow\">\n",
       "    <path class=\"displacy-arc\" id=\"arrow-0-3\" stroke-width=\"2px\" d=\"M420,264.5 C420,89.5 745.0,89.5 745.0,264.5\" fill=\"none\" stroke=\"currentColor\"/>\n",
       "    <text dy=\"1.25em\" style=\"font-size: 0.8em; letter-spacing: 1px\">\n",
       "        <textPath xlink:href=\"#arrow-0-3\" class=\"displacy-label\" startOffset=\"50%\" fill=\"currentColor\" text-anchor=\"middle\">cc</textPath>\n",
       "    </text>\n",
       "    <path class=\"displacy-arrowhead\" d=\"M745.0,266.5 L753.0,254.5 737.0,254.5\" fill=\"currentColor\"/>\n",
       "</g>\n",
       "\n",
       "<g class=\"displacy-arrow\">\n",
       "    <path class=\"displacy-arc\" id=\"arrow-0-4\" stroke-width=\"2px\" d=\"M420,264.5 C420,2.0 925.0,2.0 925.0,264.5\" fill=\"none\" stroke=\"currentColor\"/>\n",
       "    <text dy=\"1.25em\" style=\"font-size: 0.8em; letter-spacing: 1px\">\n",
       "        <textPath xlink:href=\"#arrow-0-4\" class=\"displacy-label\" startOffset=\"50%\" fill=\"currentColor\" text-anchor=\"middle\">conj</textPath>\n",
       "    </text>\n",
       "    <path class=\"displacy-arrowhead\" d=\"M925.0,266.5 L933.0,254.5 917.0,254.5\" fill=\"currentColor\"/>\n",
       "</g>\n",
       "\n",
       "<g class=\"displacy-arrow\">\n",
       "    <path class=\"displacy-arc\" id=\"arrow-0-5\" stroke-width=\"2px\" d=\"M1120,264.5 C1120,177.0 1265.0,177.0 1265.0,264.5\" fill=\"none\" stroke=\"currentColor\"/>\n",
       "    <text dy=\"1.25em\" style=\"font-size: 0.8em; letter-spacing: 1px\">\n",
       "        <textPath xlink:href=\"#arrow-0-5\" class=\"displacy-label\" startOffset=\"50%\" fill=\"currentColor\" text-anchor=\"middle\">det</textPath>\n",
       "    </text>\n",
       "    <path class=\"displacy-arrowhead\" d=\"M1120,266.5 L1112,254.5 1128,254.5\" fill=\"currentColor\"/>\n",
       "</g>\n",
       "\n",
       "<g class=\"displacy-arrow\">\n",
       "    <path class=\"displacy-arc\" id=\"arrow-0-6\" stroke-width=\"2px\" d=\"M945,264.5 C945,89.5 1270.0,89.5 1270.0,264.5\" fill=\"none\" stroke=\"currentColor\"/>\n",
       "    <text dy=\"1.25em\" style=\"font-size: 0.8em; letter-spacing: 1px\">\n",
       "        <textPath xlink:href=\"#arrow-0-6\" class=\"displacy-label\" startOffset=\"50%\" fill=\"currentColor\" text-anchor=\"middle\">npadvmod</textPath>\n",
       "    </text>\n",
       "    <path class=\"displacy-arrowhead\" d=\"M1270.0,266.5 L1278.0,254.5 1262.0,254.5\" fill=\"currentColor\"/>\n",
       "</g>\n",
       "</svg>"
      ],
      "text/plain": [
       "<IPython.core.display.HTML object>"
      ]
     },
     "metadata": {},
     "output_type": "display_data"
    }
   ],
   "source": [
    "from spacy import displacy\n",
    "displacy.render(\n",
    "    nlp(\"Well, everyone got up and going this morning.\"), \n",
    "    style=\"dep\",\n",
    "    jupyter=True # to make this render correctly in the Jupyter notebook\n",
    ")"
   ]
  },
  {
   "cell_type": "markdown",
   "metadata": {},
   "source": [
    "There's more that spaCy can do, and there are other models and libraries available for doing this sort of automated parsing and annotation of text (e.g., there are interfaces to Stanford's CoreNLP suite), but spaCy is always a good bet since it's fast (for the amount of work it does), pretty accurate, easy to use, and flexible."
   ]
  },
  {
   "cell_type": "markdown",
   "metadata": {},
   "source": [
    "## Topic Modeling\n",
    "\n",
    "Topic Modeling refers to a wide variety of algorithms that are used to explore and discover \"topics\" within a corpus.  \"Topic\" is being used with a very specific meaning here--a topic is a _statistical distribution of words_.  You might already be familiar with Latent Semantic Analysis (LSA; sometimes called Latent Semantic Indexing, or LSI), which is an older model for this sort of analysis.\n",
    "\n",
    "Most modern algorithms are based on [Latent Dirichlet Allocation (LDA)](http://www.jmlr.org/papers/volume3/blei03a/blei03a.pdf), which uses word co-occurrences within documents to determine the topics.  LDA has given rise to a number of subsequent topic models: \n",
    "* Author-Topic models, which are LDA with metadata (usually, but not always, the author of a piece)\n",
    "* Dynamic topic models, which include time metadata in the modeling process\n",
    "* Hierarchical Dirichlet Process, an extension of LDA that is _nonparametric_ with regards to the number of topics (but can give less clear results in some cases).\n",
    "\n",
    "All of these models are implemented in Genim.  Due to the size of our corpus and the fact that this is a live demo, we'll use Gensim's speedier preprocessing tools to work with our data and prepate it for topic modeling.  And we'll only show LDA, since the others do the same basic thing and look basically the same in code.\n",
    "\n",
    "Gensim requires that the corpus be in a _bag of words_ format for topic modeling, so we'll need to put our documents in that format first.  Fortunately this requires little code: just do our preprocessing, then use some pre-built tools from Gensim to do the rest."
   ]
  },
  {
   "cell_type": "code",
   "execution_count": 25,
   "metadata": {
    "collapsed": true
   },
   "outputs": [
    {
     "data": {
      "application/vnd.jupyter.widget-view+json": {
       "model_id": "d143a39646f747c7a38dced93479dc1d",
       "version_major": 2,
       "version_minor": 0
      },
      "text/html": [
       "<p>Failed to display Jupyter Widget of type <code>HBox</code>.</p>\n",
       "<p>\n",
       "  If you're reading this message in the Jupyter Notebook or JupyterLab Notebook, it may mean\n",
       "  that the widgets JavaScript is still loading. If this message persists, it\n",
       "  likely means that the widgets JavaScript library is either not installed or\n",
       "  not enabled. See the <a href=\"https://ipywidgets.readthedocs.io/en/stable/user_install.html\">Jupyter\n",
       "  Widgets Documentation</a> for setup instructions.\n",
       "</p>\n",
       "<p>\n",
       "  If you're reading this message in another frontend (for example, a static\n",
       "  rendering on GitHub or <a href=\"https://nbviewer.jupyter.org/\">NBViewer</a>),\n",
       "  it may mean that your frontend doesn't currently support widgets.\n",
       "</p>\n"
      ],
      "text/plain": [
       "HBox(children=(IntProgress(value=0, description='Preprocessing', max=681288), HTML(value='')))"
      ]
     },
     "metadata": {},
     "output_type": "display_data"
    },
    {
     "name": "stdout",
     "output_type": "stream",
     "text": [
      "\n"
     ]
    },
    {
     "data": {
      "application/vnd.jupyter.widget-view+json": {
       "model_id": "38012706af524d97b4309bae6fb48066",
       "version_major": 2,
       "version_minor": 0
      },
      "text/html": [
       "<p>Failed to display Jupyter Widget of type <code>HBox</code>.</p>\n",
       "<p>\n",
       "  If you're reading this message in the Jupyter Notebook or JupyterLab Notebook, it may mean\n",
       "  that the widgets JavaScript is still loading. If this message persists, it\n",
       "  likely means that the widgets JavaScript library is either not installed or\n",
       "  not enabled. See the <a href=\"https://ipywidgets.readthedocs.io/en/stable/user_install.html\">Jupyter\n",
       "  Widgets Documentation</a> for setup instructions.\n",
       "</p>\n",
       "<p>\n",
       "  If you're reading this message in another frontend (for example, a static\n",
       "  rendering on GitHub or <a href=\"https://nbviewer.jupyter.org/\">NBViewer</a>),\n",
       "  it may mean that your frontend doesn't currently support widgets.\n",
       "</p>\n"
      ],
      "text/plain": [
       "HBox(children=(IntProgress(value=0, description='Phrase-finding', max=681288), HTML(value='')))"
      ]
     },
     "metadata": {},
     "output_type": "display_data"
    },
    {
     "name": "stdout",
     "output_type": "stream",
     "text": [
      "\n"
     ]
    },
    {
     "data": {
      "application/vnd.jupyter.widget-view+json": {
       "model_id": "5c48032fcfd84a9895164da2f21bd124",
       "version_major": 2,
       "version_minor": 0
      },
      "text/html": [
       "<p>Failed to display Jupyter Widget of type <code>HBox</code>.</p>\n",
       "<p>\n",
       "  If you're reading this message in the Jupyter Notebook or JupyterLab Notebook, it may mean\n",
       "  that the widgets JavaScript is still loading. If this message persists, it\n",
       "  likely means that the widgets JavaScript library is either not installed or\n",
       "  not enabled. See the <a href=\"https://ipywidgets.readthedocs.io/en/stable/user_install.html\">Jupyter\n",
       "  Widgets Documentation</a> for setup instructions.\n",
       "</p>\n",
       "<p>\n",
       "  If you're reading this message in another frontend (for example, a static\n",
       "  rendering on GitHub or <a href=\"https://nbviewer.jupyter.org/\">NBViewer</a>),\n",
       "  it may mean that your frontend doesn't currently support widgets.\n",
       "</p>\n"
      ],
      "text/plain": [
       "HBox(children=(IntProgress(value=0, description='Phrasing', max=681288), HTML(value='')))"
      ]
     },
     "metadata": {},
     "output_type": "display_data"
    },
    {
     "name": "stdout",
     "output_type": "stream",
     "text": [
      "\n"
     ]
    },
    {
     "data": {
      "application/vnd.jupyter.widget-view+json": {
       "model_id": "6775a03d6c11464b866b517536a325bc",
       "version_major": 2,
       "version_minor": 0
      },
      "text/html": [
       "<p>Failed to display Jupyter Widget of type <code>HBox</code>.</p>\n",
       "<p>\n",
       "  If you're reading this message in the Jupyter Notebook or JupyterLab Notebook, it may mean\n",
       "  that the widgets JavaScript is still loading. If this message persists, it\n",
       "  likely means that the widgets JavaScript library is either not installed or\n",
       "  not enabled. See the <a href=\"https://ipywidgets.readthedocs.io/en/stable/user_install.html\">Jupyter\n",
       "  Widgets Documentation</a> for setup instructions.\n",
       "</p>\n",
       "<p>\n",
       "  If you're reading this message in another frontend (for example, a static\n",
       "  rendering on GitHub or <a href=\"https://nbviewer.jupyter.org/\">NBViewer</a>),\n",
       "  it may mean that your frontend doesn't currently support widgets.\n",
       "</p>\n"
      ],
      "text/plain": [
       "HBox(children=(IntProgress(value=0, description='id2word', max=681288), HTML(value='')))"
      ]
     },
     "metadata": {},
     "output_type": "display_data"
    },
    {
     "name": "stdout",
     "output_type": "stream",
     "text": [
      "\n",
      "Removed 507524 tokens based on frequency criteria.\n"
     ]
    },
    {
     "data": {
      "application/vnd.jupyter.widget-view+json": {
       "model_id": "49ee65d8bdff4d42972916cdeb50c2c2",
       "version_major": 2,
       "version_minor": 0
      },
      "text/html": [
       "<p>Failed to display Jupyter Widget of type <code>HBox</code>.</p>\n",
       "<p>\n",
       "  If you're reading this message in the Jupyter Notebook or JupyterLab Notebook, it may mean\n",
       "  that the widgets JavaScript is still loading. If this message persists, it\n",
       "  likely means that the widgets JavaScript library is either not installed or\n",
       "  not enabled. See the <a href=\"https://ipywidgets.readthedocs.io/en/stable/user_install.html\">Jupyter\n",
       "  Widgets Documentation</a> for setup instructions.\n",
       "</p>\n",
       "<p>\n",
       "  If you're reading this message in another frontend (for example, a static\n",
       "  rendering on GitHub or <a href=\"https://nbviewer.jupyter.org/\">NBViewer</a>),\n",
       "  it may mean that your frontend doesn't currently support widgets.\n",
       "</p>\n"
      ],
      "text/plain": [
       "HBox(children=(IntProgress(value=0, description='BoW', max=681288), HTML(value='')))"
      ]
     },
     "metadata": {},
     "output_type": "display_data"
    },
    {
     "name": "stdout",
     "output_type": "stream",
     "text": [
      "\n",
      "Wall time: 22min 59s\n"
     ]
    }
   ],
   "source": [
    "%%time\n",
    "\n",
    "from gensim.corpora import Dictionary\n",
    "from gensim.corpora.mmcorpus import MmCorpus\n",
    "from gensim.models.phrases import Phrases, Phraser\n",
    "from gensim.parsing.preprocessing import preprocess_string\n",
    "from tqdm import tqdm_notebook as tqdm\n",
    "\n",
    "# preprocess our corpus\n",
    "corpus = [\n",
    "    preprocess_string(i) \n",
    "    for i in tqdm(blog_dataframe[\"Post\"], desc=\"Preprocessing\")\n",
    "]\n",
    "phrases = Phrases(tqdm(corpus, desc=\"Phrase-finding\"), min_count=100)\n",
    "corpus = list(phrases[tqdm(corpus, desc=\"Phrasing\")])\n",
    "id2word = Dictionary(tqdm(corpus, desc=\"id2word\"))\n",
    "vocabsize = len(id2word)\n",
    "# remove tokens with extremely high or low frequencies\n",
    "id2word.filter_extremes(\n",
    "    no_above=.5,  # remove tokens in > 50% of the documents (default)\n",
    "    no_below=5,   # remove tokens in < 5 documents (default)\n",
    "    keep_n=500000 # only keep 500k tokens, max--up from default 100k for good measure\n",
    ")\n",
    "# Reset index spacings for better efficiency\n",
    "id2word.compactify()\n",
    "print(f\"Removed {vocabsize - len(id2word)} tokens based on frequency criteria.\")\n",
    "corpus = [\n",
    "    id2word.doc2bow(i) \n",
    "    for i in tqdm(corpus, desc=\"BoW\")\n",
    "]"
   ]
  },
  {
   "cell_type": "markdown",
   "metadata": {},
   "source": [
    "Around this time we should also notice that we're using a _huge_ amount of RAM.  So much, in fact, that the computer might be close to running out.  (It turns out that it's almost entirely from the dataframe still in memory, but let's just pretend for the moment that it's our actual corpus).  How do we deal with this?  Simple: _streaming._  Gensim is built around the concept of working with data one chunk at a time--so we can save our data to a file, then read one \"chunk\" of that file at a time!  When dealing with a few hundred, or a few thousand, documents this isn't needed.  But when dealing with _millions_ of documents or more, it's absolutely required, unless you want to spend thousands of dollars on extremely high-end computing hardware or cloud computing time/space.\n",
    "\n",
    "Our corpus doesn't actually require this.  (The cell below will show it's only using a few megabytes--perfectly reasonable).  But we'll do it anyways, just for demonstration's sake, since this same idea and approach would scale up nicely."
   ]
  },
  {
   "cell_type": "code",
   "execution_count": 26,
   "metadata": {
    "collapsed": true
   },
   "outputs": [
    {
     "name": "stdout",
     "output_type": "stream",
     "text": [
      "id2word dictionary size in memory: 0.05KB\n",
      "Gensim corpus size in memory: 5.83MB\n",
      "Blog Dataframe dictionary size in memory: 969.19MB\n",
      "Saving id2word dictionary.\n",
      "Serializing bag-of-words corpus.\n",
      "Corpus and id2word dict saved.\n",
      "Wall time: 1min 17s\n"
     ]
    }
   ],
   "source": [
    "%%time\n",
    "\n",
    "from sys import getsizeof\n",
    "\n",
    "# getsizeof returns bytes--convert to megabytes\n",
    "# nb: factors of 1024, not 1000\n",
    "id2word_size = getsizeof(id2word) / 1024\n",
    "corpus_size = getsizeof(corpus) / 1048576\n",
    "blog_size = getsizeof(blog_dataframe) / 1048576\n",
    "\n",
    "print(f\"id2word dictionary size in memory: {id2word_size:.2f}KB\")\n",
    "print(f\"Gensim corpus size in memory: {corpus_size:.2f}MB\")\n",
    "print(f\"Blog Dataframe dictionary size in memory: {blog_size:.2f}MB\")\n",
    "\n",
    "# Delete that massive blog dataframe first--we already saved\n",
    "# it to file.\n",
    "del blog_dataframe\n",
    "\n",
    "print(\"Saving id2word dictionary.\")\n",
    "id2word.save(\"corpus data files/id2word\")\n",
    "print(\"Serializing bag-of-words corpus.\")\n",
    "MmCorpus.serialize(\n",
    "    fname=\"corpus data files/bow_corpus.mm\",\n",
    "    corpus=corpus,\n",
    "    id2word=id2word\n",
    ")\n",
    "print(\"Corpus and id2word dict saved.\")\n",
    "\n",
    "# we can reload the id2word and corpus data from the files\n",
    "# we just saved, too.\n",
    "del corpus\n",
    "del id2word"
   ]
  },
  {
   "cell_type": "markdown",
   "metadata": {},
   "source": [
    "When re-reload the corpus, we'll see that it's _much_ smaller in memory.  This is because, using Gensim's tools, we're only looking at the size of the _thing that accesses the data,_ but which does not currently store any of the data--it's all in a file on disk.  \n",
    "\n",
    "Accessing data from disk will be slow, though.  Even the fastest SSDs are still at least 10x slower than even slow RAM.  So our runtime will be limited by _disk access speed_.  BUT, disk space is _significantly_ cheaper than RAM space!  At the time of writing, 16 gigabytes of RAM costs about \\$200*.  Meanwhile, $200 can get you between 7 and 10 _terabytes_ of hard drive space (less if you want SSDs, though).  So while reading corpora off disk is very slow, it lets us work with _much_ larger datasets.\n",
    "\n",
    "We can re-load the corpus and dictionary we just saved.  The dictionary didn't take up much memory at all, but saving a copy was a good idea anyways.  The corpus also didn't take much space.\n",
    "\n",
    "\\*_RAM prices are currently (as of early 2018) very highly inflated, though; normally this much RAM should only cost about $100.  But the point still stands: RAM is expensive, hard drives are dirt cheap._"
   ]
  },
  {
   "cell_type": "code",
   "execution_count": 27,
   "metadata": {
    "collapsed": true
   },
   "outputs": [
    {
     "name": "stdout",
     "output_type": "stream",
     "text": [
      "Loading id2word dictionary.\n",
      "Loading bag-of-words corpus.\n"
     ]
    }
   ],
   "source": [
    "print(\"Loading id2word dictionary.\")\n",
    "id2word = Dictionary.load(\"corpus data files/id2word\")\n",
    "print(\"Loading bag-of-words corpus.\")\n",
    "corpus = MmCorpus(\"corpus data files/bow_corpus.mm\")"
   ]
  },
  {
   "cell_type": "markdown",
   "metadata": {},
   "source": [
    "### Aside: spaCy bag-of-words pipeline\n",
    "\n",
    "We won't run this during this demo, but just for comparison, here's a spaCy preprocessing pipeline that does the same thing.  The only thing that changes is the first pass through the corpus (the first `corpus = [...]` bit)--the bag-of-words steps are as before.  The change is shown below--all the other code would be the same.\n",
    "\n",
    "```\n",
    "import spacy\n",
    "\n",
    "nlp = spacy.load(\"en_core_web_sm\", disable=[\"parser\", \"tagger\", \"ner\"])\n",
    "corpus = [\n",
    "    [\n",
    "        i.lemma_\n",
    "        for i in nlp(j)\n",
    "        if i.is_stop == False\n",
    "        and i.is_punct == False\n",
    "    ]\n",
    "    for j in tqdm(texts, desc=\"Preprocessing\")\n",
    "]\n",
    "```\n",
    "\n",
    "When I ran this on my computer, it took about an hour and a half to run (~200 documents per second), compared to the Gensim pipeline which took about 11 minutes (~1000 documents per second).  Of course, if you remove the `disable` line, you'll get much higher-quality results, but it will run about 10x slower (~20 documents per second on my computer, nearly 12 hours total runtime)."
   ]
  },
  {
   "cell_type": "markdown",
   "metadata": {},
   "source": [
    "### Back to topic models\n",
    "\n",
    "Now, let's run some of these topic models.  We won't bother tweaking any of the default settings (except for chunksize, which should give us a bit more speed), meaning each one will search for 100 topics.  This is the most important parameter in the models, by far--and sadly, the only really good way to find a good value is to run it at a range of different topic numbers and see what gives you useful results.  You _can_ look at the _coherence_ of each topic (calculated by Gensum automatically) and use that to evaluate your model, but the be-all-end-all is the human interpretability and the usefulness of your topics.\n",
    "\n",
    "These models will take a while.  So we can skip down to the next cell and just load the models back up from disk.\n",
    "\n",
    "We also need to do a _[term frequency-inverse document frequency](https://en.wikipedia.org/wiki/Tf%E2%80%93idf)_ transform on the corpus.  This is a weighting scheme that converts the raw word counts into values that _decrease_ the weight of a word based on how many documents it appears in (more documents --> proves less informatio about any individual document, so decrease the weight), and _increases_ it based on how often it appears _within the current document_ (more occurrences --> more important to the document)."
   ]
  },
  {
   "cell_type": "code",
   "execution_count": 28,
   "metadata": {
    "collapsed": true
   },
   "outputs": [],
   "source": [
    "from gensim.corpora import Dictionary\n",
    "from gensim.corpora.mmcorpus import MmCorpus\n",
    "from gensim.models.ldamulticore import LdaMulticore\n",
    "from gensim.models.atmodel import AuthorTopicModel\n",
    "from gensim.models.hdpmodel import HdpModel\n",
    "from gensim.models.tfidfmodel import TfidfModel\n",
    "from tqdm import tqdm_notebook as tqdm"
   ]
  },
  {
   "cell_type": "code",
   "execution_count": 29,
   "metadata": {
    "collapsed": true
   },
   "outputs": [
    {
     "data": {
      "application/vnd.jupyter.widget-view+json": {
       "model_id": "2c6f5525530047208e08e82a17036058",
       "version_major": 2,
       "version_minor": 0
      },
      "text/html": [
       "<p>Failed to display Jupyter Widget of type <code>HBox</code>.</p>\n",
       "<p>\n",
       "  If you're reading this message in the Jupyter Notebook or JupyterLab Notebook, it may mean\n",
       "  that the widgets JavaScript is still loading. If this message persists, it\n",
       "  likely means that the widgets JavaScript library is either not installed or\n",
       "  not enabled. See the <a href=\"https://ipywidgets.readthedocs.io/en/stable/user_install.html\">Jupyter\n",
       "  Widgets Documentation</a> for setup instructions.\n",
       "</p>\n",
       "<p>\n",
       "  If you're reading this message in another frontend (for example, a static\n",
       "  rendering on GitHub or <a href=\"https://nbviewer.jupyter.org/\">NBViewer</a>),\n",
       "  it may mean that your frontend doesn't currently support widgets.\n",
       "</p>\n"
      ],
      "text/plain": [
       "HBox(children=(IntProgress(value=0, description='TFIDF Fitting', max=681288), HTML(value='')))"
      ]
     },
     "metadata": {},
     "output_type": "display_data"
    },
    {
     "name": "stdout",
     "output_type": "stream",
     "text": [
      "\n"
     ]
    },
    {
     "data": {
      "application/vnd.jupyter.widget-view+json": {
       "model_id": "5cd748a4da094eaea31f65f5eefee531",
       "version_major": 2,
       "version_minor": 0
      },
      "text/html": [
       "<p>Failed to display Jupyter Widget of type <code>HBox</code>.</p>\n",
       "<p>\n",
       "  If you're reading this message in the Jupyter Notebook or JupyterLab Notebook, it may mean\n",
       "  that the widgets JavaScript is still loading. If this message persists, it\n",
       "  likely means that the widgets JavaScript library is either not installed or\n",
       "  not enabled. See the <a href=\"https://ipywidgets.readthedocs.io/en/stable/user_install.html\">Jupyter\n",
       "  Widgets Documentation</a> for setup instructions.\n",
       "</p>\n",
       "<p>\n",
       "  If you're reading this message in another frontend (for example, a static\n",
       "  rendering on GitHub or <a href=\"https://nbviewer.jupyter.org/\">NBViewer</a>),\n",
       "  it may mean that your frontend doesn't currently support widgets.\n",
       "</p>\n"
      ],
      "text/plain": [
       "HBox(children=(IntProgress(value=0, description='TFIDF Transforming', max=681288), HTML(value='')))"
      ]
     },
     "metadata": {},
     "output_type": "display_data"
    },
    {
     "name": "stdout",
     "output_type": "stream",
     "text": [
      "\n",
      "Serializing tf-idf corpus.\n"
     ]
    }
   ],
   "source": [
    "id2word = Dictionary.load(\"corpus data files/id2word\")\n",
    "corpus = MmCorpus(\"corpus data files/bow_corpus.mm\")\n",
    "tfidf_model = TfidfModel(tqdm(corpus, desc=\"TFIDF Fitting\"))\n",
    "# TfidfModel returns a generator.  We want it as a list to \n",
    "# re-use it for all the models.\n",
    "corpus = list(tfidf_model[tqdm(corpus, desc=\"TFIDF Transforming\")])\n",
    "print(\"Serializing tf-idf corpus.\")\n",
    "MmCorpus.serialize(\n",
    "    fname=\"corpus data files/tfidf_corpus.mm\",\n",
    "    corpus=corpus,\n",
    "    id2word=id2word\n",
    ")"
   ]
  },
  {
   "cell_type": "markdown",
   "metadata": {},
   "source": [
    "Gensim has a multi-threaded LDA implementation that can take advantage of multi-core processors for significant speedups; we'll use that."
   ]
  },
  {
   "cell_type": "code",
   "execution_count": 30,
   "metadata": {
    "collapsed": true
   },
   "outputs": [
    {
     "name": "stdout",
     "output_type": "stream",
     "text": [
      "Running LDA model.\n"
     ]
    },
    {
     "name": "stderr",
     "output_type": "stream",
     "text": [
      "c:\\users\\andersonh\\appdata\\local\\programs\\python\\python36\\lib\\site-packages\\gensim\\models\\ldamodel.py:802: RuntimeWarning: divide by zero encountered in log\n",
      "  diff = np.log(self.expElogbeta)\n"
     ]
    },
    {
     "name": "stdout",
     "output_type": "stream",
     "text": [
      "Saving LDA model to file.\n",
      "Done.\n",
      "Wall time: 13min\n"
     ]
    }
   ],
   "source": [
    "%%time\n",
    "\n",
    "# corpus = MmCorpus.load(\"corpus data files/tfidf_corpus.mm\")\n",
    "print(\"Running LDA model.\")\n",
    "lda = LdaMulticore(corpus, workers=3, id2word=id2word, chunksize=50000)\n",
    "print(\"Saving LDA model to file.\")\n",
    "lda.save(\"topic models/LDA.model\")\n",
    "print(\"Done.\")"
   ]
  },
  {
   "cell_type": "markdown",
   "metadata": {},
   "source": [
    "Let's look at some of the LDA outputs and see if we can interpret them.  We'll look at only the top ten highest-likelihood topics, sorted by decreasing likelihood."
   ]
  },
  {
   "cell_type": "code",
   "execution_count": 31,
   "metadata": {
    "collapsed": true
   },
   "outputs": [
    {
     "name": "stdout",
     "output_type": "stream",
     "text": [
      "[([(0.0032867447, 'urllink'),\n",
      "   (0.0027863914, 'like'),\n",
      "   (0.0026201669, 'know'),\n",
      "   (0.0025476436, 'love'),\n",
      "   (0.0024109564, 'want'),\n",
      "   (0.0023818174, 'feel'),\n",
      "   (0.0023229425, 'time'),\n",
      "   (0.0022997775, 'thing'),\n",
      "   (0.0022506749, 'think'),\n",
      "   (0.0022419214, 'dai')],\n",
      "  -0.991923335075992),\n",
      " ([(0.0044276407, 'urllink'),\n",
      "   (0.0023756386, 'like'),\n",
      "   (0.0022402934, 'know'),\n",
      "   (0.0020682053, 'dai'),\n",
      "   (0.0020471383, 'think'),\n",
      "   (0.0020066646, 'thing'),\n",
      "   (0.001993226, 'look'),\n",
      "   (0.0019889951, 'time'),\n",
      "   (0.0019226717, 'want'),\n",
      "   (0.0018823334, 'good')],\n",
      "  -1.0021072909489532),\n",
      " ([(0.0031452833, 'urllink'),\n",
      "   (0.002618549, 'like'),\n",
      "   (0.0023778444, 'love'),\n",
      "   (0.0023155215, 'know'),\n",
      "   (0.0022554197, 'time'),\n",
      "   (0.0022332505, 'dai'),\n",
      "   (0.0022041786, 'thing'),\n",
      "   (0.0021714524, 'think'),\n",
      "   (0.0020662425, 'want'),\n",
      "   (0.0020051461, 'feel')],\n",
      "  -1.0371516683648605),\n",
      " ([(0.0037324338, 'urllink'),\n",
      "   (0.0025839917, 'like'),\n",
      "   (0.0023313707, 'know'),\n",
      "   (0.0022363507, 'time'),\n",
      "   (0.0022093586, 'dai'),\n",
      "   (0.0021959213, 'think'),\n",
      "   (0.0020698688, 'want'),\n",
      "   (0.0020404994, 'thing'),\n",
      "   (0.0020326914, 'peopl'),\n",
      "   (0.0020270168, 'work')],\n",
      "  -1.037523835694815),\n",
      " ([(0.0033950717, 'urllink'),\n",
      "   (0.002547115, 'like'),\n",
      "   (0.0024895007, 'know'),\n",
      "   (0.002475114, 'love'),\n",
      "   (0.0022665106, 'time'),\n",
      "   (0.0021941478, 'want'),\n",
      "   (0.00216542, 'dai'),\n",
      "   (0.0021385716, 'thing'),\n",
      "   (0.0021323161, 'think'),\n",
      "   (0.0020106426, 'feel')],\n",
      "  -1.0389515068966084),\n",
      " ([(0.0040940056, 'urllink'),\n",
      "   (0.0025974775, 'like'),\n",
      "   (0.0022480788, 'know'),\n",
      "   (0.0022426376, 'dai'),\n",
      "   (0.0021083711, 'time'),\n",
      "   (0.002065473, 'work'),\n",
      "   (0.002014777, 'new'),\n",
      "   (0.001946062, 'want'),\n",
      "   (0.0019344733, 'think'),\n",
      "   (0.0018878003, 'thing')],\n",
      "  -1.0416680131366436),\n",
      " ([(0.0039211577, 'urllink'),\n",
      "   (0.0035663845, 'nbsp'),\n",
      "   (0.0026781426, 'work'),\n",
      "   (0.0025530022, 'like'),\n",
      "   (0.0023340273, 'dai'),\n",
      "   (0.0022568388, 'know'),\n",
      "   (0.002200635, 'think'),\n",
      "   (0.002124303, 'thing'),\n",
      "   (0.0020629035, 'time'),\n",
      "   (0.002020318, 'go')],\n",
      "  -1.0648945292671508),\n",
      " ([(0.0033071246, 'nbsp'),\n",
      "   (0.0031024385, 'urllink'),\n",
      "   (0.0029407777, 'like'),\n",
      "   (0.0027964371, 'know'),\n",
      "   (0.0024651678, 'dai'),\n",
      "   (0.0024367403, 'think'),\n",
      "   (0.002396396, 'work'),\n",
      "   (0.0023568869, 'time'),\n",
      "   (0.00229206, 'thing'),\n",
      "   (0.0022025094, 'want')],\n",
      "  -1.0649106448359777),\n",
      " ([(0.003832554, 'nbsp'),\n",
      "   (0.0035766826, 'urllink'),\n",
      "   (0.0027839274, 'like'),\n",
      "   (0.0026074082, 'know'),\n",
      "   (0.0024505686, 'think'),\n",
      "   (0.0023473722, 'want'),\n",
      "   (0.0023310697, 'work'),\n",
      "   (0.002326278, 'thing'),\n",
      "   (0.0022509075, 'peopl'),\n",
      "   (0.002218816, 'time')],\n",
      "  -1.0716893580334352),\n",
      " ([(0.0032079602, 'urllink'),\n",
      "   (0.0028091543, 'like'),\n",
      "   (0.0023741648, 'know'),\n",
      "   (0.002320525, 'blog'),\n",
      "   (0.0023021041, 'want'),\n",
      "   (0.0022548395, 'dai'),\n",
      "   (0.002238216, 'think'),\n",
      "   (0.0022324405, 'time'),\n",
      "   (0.0022161962, 'work'),\n",
      "   (0.0021896486, 'thing')],\n",
      "  -1.0718338146744584)]\n"
     ]
    }
   ],
   "source": [
    "from pprint import pprint\n",
    "print(\"Loading LDA model from file.\")\n",
    "lda = LdaMulticore.load(\"topic models/LDA.model\")\n",
    "pprint(lda.top_topics(corpus, topn=10)[:10])\n",
    "\n",
    "# delete the model to conserve RAM space.\n",
    "# We've already saved it to disk, so it can be reloaded.\n",
    "del lda"
   ]
  },
  {
   "cell_type": "markdown",
   "metadata": {},
   "source": [
    "## Word Embeddings\n",
    "\n",
    "Word embeddings have absolutely taken over the entire field of NLP, starting with Mikolov et al's 2013 paper on [Word2Vec](https://arxiv.org/abs/1301.3781).  The basic idea of these embeddings:\n",
    "* Some notion of \"meaning\" is recoverable from the _contexts_ that a word occurs in\n",
    "* It is possible to generate a _vector_ representation of a word such that _words appearing in similar contexts have similar vectors_ (or, more intuitively, \"are close to each other\").\n",
    "\n",
    "Word vectors are used for almost every kind of task: document scoring and classification, sentiment analysis, document and word clustering, machine translation (though less commmonly), and more.  Plus, they've been demonstrated to excel at a number of lexical similarity and analogy tasks.\n",
    "\n",
    "Gensim has an impelementation of Word2Vec that we can use on our corpus.  spaCy, meanwhile, comes pre-bundled with word vectors computed using Stanford's GloVe algorithm (which works differently under the hood, but in terms of how well the vectors actually perform in any application, is basically identical).\n",
    "\n",
    "### Brief aside: Poincare Embeddings\n",
    "In May 2017, Maximilian Nickel and Douwe Kiela published [an extremely exciting paper](https://arxiv.org/pdf/1705.08039) on embeddings performed in _hyperbolic space_ rather than _Euclidean space_ (all prior models were in Euclidean space).  These embeddings--while not yet well-suited to extracting word similarities and meanings from large bodies of unlabeled text--show an extreme aptitude for embedding _graph_- and _network_-like data, e.g. WordNet, and can capture various relations like hypernymy/hyponymy and synonymy quite well.  Keep an eye on \"Poincare Embeddings\"--lots of interesting things are sure to happen there soon.\n",
    "\n",
    "### spaCy word vectors\n",
    "We'll work with spaCy's pre-trained vectors just for time's sake--training word2vec models in Gensim is surprisingly fast, but we'll be doing basically the same thing downstream.  First, as always, we need to load our data and our model.  We'll just use a single blog post, and we'll turn off a bunch of the spaCy parsing stuff for speed."
   ]
  },
  {
   "cell_type": "code",
   "execution_count": 32,
   "metadata": {
    "collapsed": true
   },
   "outputs": [],
   "source": [
    "import pandas as pd\n",
    "import spacy\n",
    "\n",
    "nlp = spacy.load(\"en_core_web_lg\")\n",
    "\n",
    "# just use the very first post for demos\n",
    "demo_post = pd.read_csv(\n",
    "    \"corpus data files/Blog Data.csv\",\n",
    "    usecols=[\"Post\"],\n",
    "    nrows=1,\n",
    "    squeeze=True\n",
    ")[0]\n",
    "demo_post = nlp(demo_post)"
   ]
  },
  {
   "cell_type": "code",
   "execution_count": 33,
   "metadata": {
    "collapsed": true
   },
   "outputs": [
    {
     "name": "stdout",
     "output_type": "stream",
     "text": [
      "Well\n",
      "[-1.2486e-01  6.9180e-02 -3.1364e-01 -3.1354e-01  1.4388e-01  1.6573e-01\n",
      " -4.0073e-02 -3.4590e-01 -1.7483e-01  2.6147e+00  9.1120e-03  1.8054e-02\n",
      "  8.3494e-02 -9.3186e-02 -1.0852e-01 -1.4856e-01  1.4402e-01  1.1995e+00\n",
      " -5.1814e-01 -4.3844e-02 -2.8039e-01  1.3527e-01 -3.6054e-02 -1.3734e-01\n",
      "  3.1807e-02  1.7668e-02  4.7540e-02 -3.0738e-02  1.7169e-01 -1.0349e-01\n",
      "  1.0784e-01  1.9757e-02  6.9675e-02 -1.5200e-01 -1.9508e-01 -1.7867e-01\n",
      "  1.1583e-01  4.7459e-02 -4.5048e-02 -1.0148e-02 -6.7003e-02  3.0717e-02\n",
      " -9.5259e-02 -2.2538e-02  8.2868e-02  1.9983e-01 -1.2923e-01 -1.3680e-01\n",
      "  2.9010e-02  1.8272e-01  2.2101e-02  1.5804e-01  3.7986e-02  3.1765e-02\n",
      " -3.0443e-03  3.1779e-02 -9.1168e-02  3.6951e-02  4.4161e-02  1.0407e-01\n",
      "  1.5687e-02 -9.7470e-02  4.2405e-02  2.6701e-01 -1.0596e-01 -1.4289e-01\n",
      " -6.7763e-02  1.7992e-01  2.6175e-01  4.5349e-02  2.5674e-01  1.2484e-01\n",
      "  3.6875e-01  7.5486e-02 -1.4867e-01  8.2897e-03  8.9685e-02 -1.3242e-01\n",
      " -2.4698e-01  2.3017e-01 -2.4372e-03  1.8298e-01 -2.2386e-01  1.7260e-01\n",
      " -2.6223e-02 -3.0136e-01 -1.8803e-01  1.0426e-01 -4.1197e-02  6.9884e-02\n",
      " -3.3139e-03 -1.4249e-01  4.4817e-02  3.6930e-01  5.2759e-01 -1.4461e-01\n",
      "  2.2260e-01 -2.1296e-01 -2.1575e-01 -2.1324e-02 -2.3094e-01 -9.1427e-02\n",
      " -1.3952e-01 -6.5416e-02  9.9365e-02 -1.1914e+00 -1.0889e-01 -3.6120e-01\n",
      " -6.4289e-02 -1.4312e-01  9.1272e-03 -1.6777e-01  2.1744e-01 -4.6958e-02\n",
      "  7.1629e-03 -8.1238e-03  4.3175e-02 -5.4813e-02 -1.1981e-01  4.2927e-02\n",
      "  2.3405e-01  1.0804e-01  1.9480e-01 -5.6464e-02  1.2108e-01  1.0770e-01\n",
      " -9.7876e-02 -2.4924e-01  2.4288e-01 -2.4311e-02 -8.8623e-02 -3.1197e-01\n",
      " -1.8214e-01  2.1236e-01  2.4771e-01  3.9045e-01  1.9372e-01 -4.0742e-01\n",
      "  1.3977e-01  1.5621e-01 -1.2266e+00  2.0881e-01  4.3454e-01 -1.0045e-01\n",
      " -1.3093e-01 -2.2994e-01 -2.5303e-01 -5.7255e-02  4.4188e-02  3.9772e-03\n",
      " -2.1284e-01  2.0268e-01  1.5135e-01 -8.1819e-03 -1.3508e-01 -6.2223e-02\n",
      "  1.2250e-01 -7.0757e-02 -5.4248e-02 -4.5870e-01  2.6266e-01  1.4630e-01\n",
      "  4.0067e-02 -1.7087e-01 -2.3487e-02 -2.6435e-01  5.8678e-02 -7.8438e-02\n",
      "  3.0261e-01 -1.4065e-01 -5.5911e-02  1.8330e-01 -1.0979e-01 -7.1047e-02\n",
      " -1.7407e-01 -1.4674e-01 -2.8062e-01  1.3984e-01  1.1339e-01  1.0495e-01\n",
      " -1.4357e-01 -1.2663e-01 -3.4565e-01 -1.4041e-01 -1.2706e-01 -2.8720e-01\n",
      " -2.9107e-02  5.2271e-02  1.9180e-01 -5.9188e-02  1.1118e-02 -3.6953e-02\n",
      " -4.6103e-02 -5.5561e-02 -4.2408e-02 -5.4556e-02 -8.5381e-02 -2.5072e-01\n",
      "  1.3272e-01  8.9385e-02  5.0679e-02 -1.4402e-01  1.5704e-02  8.2595e-02\n",
      "  2.8950e-01  1.1995e-01  8.2218e-03  8.6943e-02 -1.4487e-01 -6.4140e-02\n",
      " -2.8995e-01 -4.3396e-02  1.0147e-01 -3.6916e-01  1.3197e-01  2.2112e-01\n",
      "  2.2586e-01 -1.3024e-01  3.4924e-02  1.7595e-01 -5.5850e-04  1.4002e-01\n",
      "  7.2031e-02  9.4518e-02  2.5377e-01  1.5240e-01 -9.7878e-02  8.5805e-02\n",
      "  3.9108e-02  1.6801e-01 -2.7371e-01 -8.4246e-02 -1.9891e-01  1.9488e-01\n",
      "  1.0244e-01 -2.1371e-01  1.9158e-01 -4.9702e-01 -7.6887e-02  1.3054e-01\n",
      "  1.4384e-01  9.2271e-02 -2.4776e-01  2.9863e-01  4.5713e-01  6.3761e-02\n",
      " -2.8826e-01 -1.8834e-01 -6.4870e-02  2.0241e-01  2.9338e-01 -1.1416e-01\n",
      " -2.9192e-01 -1.3655e-01  5.2752e-02  2.9894e-02  3.6916e-01  1.2743e-02\n",
      " -2.2503e-01  8.0966e-02  3.2966e-01  1.3930e-01 -7.8549e-02  1.1004e-01\n",
      " -9.0624e-02 -1.9984e-02  2.2853e-02  3.1763e-03  6.1005e-01  2.6677e-01\n",
      "  4.9331e-02 -2.5631e-01 -2.4592e-01 -3.0870e-01 -4.1584e-01  3.6741e-01\n",
      "  1.0777e-01 -1.3235e-02 -8.0141e-02  4.4847e-01  2.7414e-01  1.1039e-01\n",
      " -8.1114e-02 -1.6639e-01  1.8136e-02  7.6002e-02  2.0605e-01 -1.8203e-01\n",
      "  2.9575e-01  5.4778e-02 -4.6968e-01  1.5817e-02 -2.2619e-01  1.1062e-02\n",
      "  1.8545e-01 -1.1914e-01  2.1583e-01 -4.0342e-01  1.7759e-01  8.9240e-02]\n"
     ]
    }
   ],
   "source": [
    "print(demo_post[1])\n",
    "print(demo_post[1].vector)"
   ]
  },
  {
   "cell_type": "code",
   "execution_count": 34,
   "metadata": {
    "collapsed": true
   },
   "outputs": [
    {
     "name": "stdout",
     "output_type": "stream",
     "text": [
      "Token          \tSimilarity to 'Well'\n",
      "Well           \t1.000\n",
      "everyone       \t0.648\n",
      "got            \t0.552\n",
      "up             \t0.602\n",
      "and            \t0.682\n",
      "going          \t0.631\n",
      "this           \t0.604\n",
      "morning        \t0.387\n",
      "It             \t0.714\n",
      "'s             \t0.412\n",
      "still          \t0.710\n",
      "raining        \t0.262\n"
     ]
    }
   ],
   "source": [
    "print(f\"{'Token':<15s}\\tSimilarity to '{demo_post[1].text}'\")\n",
    "\n",
    "for i in demo_post[:15]:\n",
    "    # try/except because some token comparisons throw errors on spaCy's end\n",
    "    try:\n",
    "        print(f\"{i.text:<15s}\\t{demo_post[1].similarity(i):.3f}\")\n",
    "    except:\n",
    "        pass"
   ]
  },
  {
   "cell_type": "markdown",
   "metadata": {},
   "source": [
    "Word vectors can also be extended to computer vectors for entire documents.  Usually, this is done by simply adding or averaging the vectors for each individual word in the document.  (Incidentally, this exact same approach lets you get a vector for any arbitrary bit of text!)"
   ]
  },
  {
   "cell_type": "code",
   "execution_count": 35,
   "metadata": {
    "collapsed": true
   },
   "outputs": [
    {
     "name": "stdout",
     "output_type": "stream",
     "text": [
      "[ 1.31642865e-02  2.37451762e-01 -1.33002967e-01 -1.58166736e-01\n",
      "  9.16091949e-02  4.56015505e-02 -1.51400210e-03 -1.62576497e-01\n",
      " -7.07884729e-02  2.12497878e+00 -1.87663123e-01  2.05625482e-02\n",
      "  7.54114017e-02 -6.97415769e-02 -1.99725553e-01 -5.24708331e-02\n",
      " -2.69564018e-02  1.06616330e+00 -1.82011917e-01 -4.86053340e-02\n",
      " -5.35848886e-02  2.18726844e-02 -5.59682995e-02 -3.07797678e-02\n",
      "  2.45223865e-02 -1.28578171e-02 -1.20025635e-01 -3.46809365e-02\n",
      "  7.66581818e-02 -7.82760903e-02 -2.33661868e-02  3.36482115e-02\n",
      " -4.14343439e-02  2.24824902e-02  5.23805320e-02 -4.10539694e-02\n",
      "  4.96976711e-02  3.10765095e-02 -5.10399900e-02 -3.25182676e-02\n",
      " -1.58267170e-02  3.63390930e-02  2.94042882e-02 -3.33312154e-02\n",
      "  2.69403644e-02  1.00509606e-01 -1.64681092e-01 -4.72940765e-02\n",
      "  5.93143664e-02 -5.76425642e-02 -5.66710643e-02  9.40750092e-02\n",
      " -2.73930281e-02  2.85059139e-02  4.11496833e-02 -6.96792779e-03\n",
      " -1.54412789e-02 -4.68339510e-02  5.63570932e-02 -3.10750045e-02\n",
      " -6.35085851e-02 -5.31633161e-02 -4.81112249e-04  1.96307719e-01\n",
      "  1.30728194e-02 -7.01612234e-02 -2.12039668e-02  4.46476564e-02\n",
      " -2.95005795e-02  1.79688618e-01  4.91093583e-02  1.00777403e-01\n",
      "  1.98810115e-01 -6.47725305e-03  8.86943787e-02  5.91295697e-02\n",
      "  9.21648890e-02  3.84680904e-03 -6.41978085e-02  1.93143263e-01\n",
      " -4.62955497e-02  8.67331773e-02 -6.86863884e-02 -1.38426665e-02\n",
      "  4.33658510e-02 -2.46838838e-01  1.19494922e-01 -7.30767846e-02\n",
      "  2.77736813e-01  1.34293601e-01 -1.80763267e-02 -1.45396953e-02\n",
      "  4.63578245e-03  5.40753379e-02  1.41394556e-01 -2.58688144e-02\n",
      "  1.91447865e-02  5.76385530e-03 -5.65039255e-02  1.07032163e-02\n",
      " -2.87960656e-02  4.17623743e-02 -1.27336815e-01 -5.02941720e-02\n",
      "  6.15321919e-02 -5.78176796e-01  5.08880280e-02 -7.64341326e-03\n",
      "  1.52477883e-02  1.23977093e-02  3.75351422e-02 -1.55868232e-01\n",
      "  1.34658828e-01 -1.35198385e-01 -4.05474156e-02 -4.07232419e-02\n",
      "  1.43934898e-02 -8.09895433e-03 -1.22347800e-02 -9.73605067e-02\n",
      "  6.38979748e-02  2.94547584e-02  1.99218541e-02 -7.03123733e-02\n",
      "  7.94450473e-03  7.23707601e-02  1.59296431e-02 -1.17330894e-01\n",
      "  1.45509187e-02 -4.16304134e-02  2.19151489e-02 -8.63423571e-02\n",
      " -7.60464519e-02  5.95238097e-02  1.16800264e-01  4.88185436e-02\n",
      " -1.56893209e-03 -1.40665406e-02  2.85443738e-02  2.45357323e-02\n",
      " -1.26371944e+00  1.50656730e-01  2.11000651e-01 -2.11142749e-03\n",
      "  1.73429642e-02  2.67431065e-02 -6.83486834e-02  2.42024250e-02\n",
      "  5.20412624e-03 -5.24368025e-02 -5.55904321e-02  2.24909615e-02\n",
      "  1.34837732e-01  4.61816378e-02 -9.35395807e-02 -7.21071884e-02\n",
      " -8.52866769e-02 -6.69751465e-02 -4.74636741e-02 -7.50315413e-02\n",
      "  7.53237261e-03  2.78376527e-02 -3.41446958e-02 -5.79334050e-02\n",
      " -3.71873602e-02 -1.12035863e-01  2.50705909e-02 -5.78852706e-02\n",
      "  1.34372517e-01  1.50861293e-02 -3.01528946e-02  4.10258621e-02\n",
      " -9.67732910e-03 -4.56370153e-02 -1.12796240e-01  6.34944364e-02\n",
      "  6.69909967e-03 -3.51219364e-02  8.46422929e-03 -9.01845619e-02\n",
      "  2.66135065e-03 -7.27335662e-02 -1.45241603e-01 -4.90702353e-02\n",
      " -2.65349410e-02 -9.75504294e-02 -4.19219211e-02  1.10685546e-02\n",
      "  8.61035287e-02  2.06585191e-02  4.93311137e-02  7.12807402e-02\n",
      " -1.00086510e-01  2.63198689e-02 -1.67035796e-02  1.25243828e-01\n",
      " -1.05668139e-02 -1.19949043e-01 -2.14458443e-02  1.60552979e-01\n",
      " -9.00433362e-02 -7.66610503e-02 -5.50686717e-02  1.10140545e-02\n",
      "  1.95168465e-01 -1.84920114e-02  4.93176617e-02  1.34883001e-02\n",
      "  7.02754483e-02 -3.39424312e-02 -8.85552689e-02 -7.08585307e-02\n",
      "  4.05594474e-03 -1.70666635e-01  2.76947170e-02  9.22666490e-02\n",
      " -4.02171798e-02 -3.87982689e-02 -1.57628641e-01  7.38738105e-02\n",
      "  1.36203943e-02  6.59089442e-03 -2.76750401e-02  6.13207519e-02\n",
      "  2.38623507e-02 -2.92682089e-03 -5.13713285e-02  8.41584802e-02\n",
      " -5.21717183e-02  2.70015523e-02 -6.06019832e-02  6.67507872e-02\n",
      "  9.67155546e-02  9.47949141e-02 -1.70890838e-02 -6.73476160e-02\n",
      "  2.93387454e-02 -1.62215143e-01 -3.64345051e-02  1.06720850e-01\n",
      "  1.13053983e-02  5.38144931e-02 -5.98892234e-02  8.59192312e-02\n",
      "  9.49497223e-02 -5.38322888e-02 -6.84643313e-02 -1.06010884e-01\n",
      " -9.19809863e-02  1.01062536e-01  4.23326939e-02 -8.91820937e-02\n",
      " -9.48470924e-03 -5.99794555e-03  5.45678847e-02  1.95466697e-01\n",
      "  9.99818891e-02 -8.39695185e-02 -1.06593117e-01  6.10944480e-02\n",
      "  1.49142385e-01  1.10690340e-01 -3.90812680e-02  7.86308348e-02\n",
      "  9.38537791e-02 -2.91924439e-02 -5.98246008e-02  1.69358682e-02\n",
      "  2.10155666e-01  5.94129860e-02 -5.30707985e-02 -5.44334985e-02\n",
      " -9.95674431e-02 -1.54171541e-01 -1.36872202e-01  3.95603441e-02\n",
      " -3.21762450e-02  7.44344369e-02 -1.45444786e-03  1.98339060e-01\n",
      "  2.58016914e-01 -7.31731132e-02 -2.78430469e-02 -8.77422020e-02\n",
      " -4.37610596e-02 -3.28980982e-02  1.48785040e-01 -1.25699237e-01\n",
      "  1.48799390e-01 -2.67258789e-02 -1.65224969e-01  1.99796744e-02\n",
      " -1.94624401e-04 -2.79833637e-02 -1.45414320e-03  1.93717834e-02\n",
      " -3.79961953e-02 -6.66726455e-02 -2.77482066e-02  3.50829475e-02]\n"
     ]
    }
   ],
   "source": [
    "print(demo_post.vector)"
   ]
  },
  {
   "cell_type": "code",
   "execution_count": 36,
   "metadata": {
    "collapsed": true
   },
   "outputs": [
    {
     "name": "stdout",
     "output_type": "stream",
     "text": [
      "Token          \tSimilarity to whole document\n",
      "               \t0.000\n",
      "Well           \t0.832\n",
      ",              \t0.559\n",
      "everyone       \t0.743\n",
      "got            \t0.699\n",
      "up             \t0.755\n",
      "and            \t0.714\n",
      "going          \t0.788\n",
      "this           \t0.715\n",
      "morning        \t0.581\n",
      ".              \t0.626\n",
      "It             \t0.840\n",
      "'s             \t0.530\n",
      "still          \t0.805\n",
      "raining        \t0.413\n"
     ]
    }
   ],
   "source": [
    "print(f\"{'Token':<15s}\\tSimilarity to whole document\")\n",
    "for i in demo_post[:15]:\n",
    "    print(f\"{i.text:<15s}\\t{demo_post.similarity(i):<.3f}\")"
   ]
  },
  {
   "cell_type": "markdown",
   "metadata": {},
   "source": [
    "## Classification and Regression with Text\n",
    "Since we have vectors representing documents (we can also use the bag-of-words representation for this, too!), we can do any classical statistical test or modelling we want, like trying to build a model to predict the age of a post's author from its contents, or predicting their gender.  But we won't use statistics, because we have tools better suited to the specifics of the tasks at hand: machine learning.\n",
    "\n",
    "Without getting too deep in the weeds, machine learning models are essentially extensions of statistics that are based on _computational mathematics_ rather than _classical mathematics_.  They tend to scale better to massive datasets (i.e. run faster and predict better) and are often more powerful for pure prediction, but they are designed for larger datasets and may not work well at lower sizes.\n",
    "\n",
    "However, ultimately, the distinction between \"machine learning\" and \"statistics\" is a false one.  The real difference is \"experimentalists\" (who seek to understand _causation_) and \"data miners,\" who only want to build models with good _predictive power_.  (I won't get any further into this--but Leo Breiman's 2001 paper [Statistical Modeling: The Two Cultures](https://projecteuclid.org/euclid.ss/1009213726) is an interesting exploration of this divide).\n",
    "\n",
    "Python has some absoltuely top-tier machine learning libraries: Scikit-Learn for non-neural models (e.g. decision trees, random forests, support vector machines), and various environments like Keras, Tensorflow, and Pytorch for building neural networks.  We'll use non-neural models for this demo--they both run faster (as in, by a factor of days, sometimes) and are _much_ easier to interpret.\n",
    "\n",
    "We'll build four models, using two different sets of target variables and two different sets of predictors.\n",
    "\n",
    "Targets: \n",
    "* Author age (regression)\n",
    "* Author gender (binary classification)\n",
    "* Author industry, where provided (multi-class classification)\n",
    "\n",
    "Predictors:\n",
    "* Document vectors, generated by spaCy\n",
    "* Bag-of-Words model, _without_ tf-idf weighting (it ends up being only marginally helpful for the model performance of SVMs, but detrimental to the model interpretability)\n",
    "\n",
    "We'll just one type of model--Support Vector Machines--for both regression and classification.  SVMs strike a nice balance between speed (though there are faster models) and performance (though there are more powerful models), and are always a good go-to.  For binary classification tasks, they're still among the best models around.  Specifically, we'll use SVMs with a _linear kernel_--don't worry for now about the impelementation details of that, just know that a linear kernel SVM runs faster than other kinds, and is often plenty good for most tasks.\n",
    "W\n",
    "\n",
    "(Spoilers: our predictions will be kinda crap)"
   ]
  },
  {
   "cell_type": "code",
   "execution_count": 1,
   "metadata": {},
   "outputs": [
    {
     "name": "stderr",
     "output_type": "stream",
     "text": [
      "c:\\users\\andersonh\\appdata\\local\\programs\\python\\python36\\lib\\site-packages\\gensim\\utils.py:1167: UserWarning: detected Windows; aliasing chunkize to chunkize_serial\n",
      "  warnings.warn(\"detected Windows; aliasing chunkize to chunkize_serial\")\n"
     ]
    }
   ],
   "source": [
    "# we need a lot more imports for this than before\n",
    "from gensim.corpora import Dictionary\n",
    "from gensim.corpora.mmcorpus import MmCorpus\n",
    "from gensim.matutils import corpus2csc\n",
    "from gensim.models.tfidfmodel import TfidfModel\n",
    "import numpy as np\n",
    "import pandas as pd\n",
    "from sklearn.svm import LinearSVC, LinearSVR\n",
    "from sklearn.metrics import f1_score, make_scorer\n",
    "from sklearn.model_selection import GridSearchCV, RandomizedSearchCV\n",
    "from sklearn.metrics.pairwise import cosine_similarity\n",
    "from sklearn.preprocessing import MaxAbsScaler, Normalizer\n",
    "from scipy.sparse import csr_matrix\n",
    "import spacy\n",
    "from tqdm import tqdm_notebook as tqdm\n",
    "\n",
    "from pprint import pprint"
   ]
  },
  {
   "cell_type": "code",
   "execution_count": 2,
   "metadata": {},
   "outputs": [
    {
     "name": "stdout",
     "output_type": "stream",
     "text": [
      "Reading in target data.\n"
     ]
    }
   ],
   "source": [
    "print(\"Reading in target data.\")\n",
    "targets = pd.read_csv(\n",
    "    \"corpus data files/Author Data.csv\",\n",
    "    usecols=[\"Age\", \"Gender\", \"Industry\"],\n",
    "    squeeze=True\n",
    ")\n",
    "ages = targets[\"Age\"].values\n",
    "genders = targets[\"Gender\"].values\n",
    "industries = targets[\"Industry\"].values"
   ]
  },
  {
   "cell_type": "code",
   "execution_count": 3,
   "metadata": {
    "collapsed": true
   },
   "outputs": [
    {
     "name": "stdout",
     "output_type": "stream",
     "text": [
      "Counter({17: 2381,\n",
      "         16: 2152,\n",
      "         23: 2026,\n",
      "         24: 1895,\n",
      "         15: 1771,\n",
      "         25: 1620,\n",
      "         26: 1340,\n",
      "         14: 1246,\n",
      "         27: 1205,\n",
      "         13: 690,\n",
      "         33: 464,\n",
      "         34: 378,\n",
      "         35: 338,\n",
      "         36: 288,\n",
      "         37: 259,\n",
      "         38: 171,\n",
      "         39: 152,\n",
      "         40: 145,\n",
      "         41: 139,\n",
      "         42: 127,\n",
      "         43: 116,\n",
      "         45: 103,\n",
      "         44: 94,\n",
      "         48: 77,\n",
      "         46: 72,\n",
      "         47: 71})\n",
      "Counter({'female': 9660, 'male': 9660})\n",
      "Counter({'indUnk': 6827,\n",
      "         'Student': 5120,\n",
      "         'Education': 980,\n",
      "         'Technology': 943,\n",
      "         'Arts': 721,\n",
      "         'Communications-Media': 479,\n",
      "         'Internet': 397,\n",
      "         'Non-Profit': 372,\n",
      "         'Engineering': 312,\n",
      "         'Government': 236,\n",
      "         'Law': 197,\n",
      "         'Consulting': 191,\n",
      "         'Science': 184,\n",
      "         'Marketing': 180,\n",
      "         'BusinessServices': 163,\n",
      "         'Publishing': 150,\n",
      "         'Advertising': 145,\n",
      "         'Religion': 139,\n",
      "         'Telecommunications': 119,\n",
      "         'Military': 116,\n",
      "         'Banking': 112,\n",
      "         'Accounting': 105,\n",
      "         'Fashion': 98,\n",
      "         'HumanResources': 94,\n",
      "         'Tourism': 94,\n",
      "         'Transportation': 91,\n",
      "         'Sports-Recreation': 90,\n",
      "         'Manufacturing': 87,\n",
      "         'Architecture': 69,\n",
      "         'Chemicals': 62,\n",
      "         'Biotech': 57,\n",
      "         'LawEnforcement-Security': 57,\n",
      "         'RealEstate': 55,\n",
      "         'Museums-Libraries': 55,\n",
      "         'Construction': 55,\n",
      "         'Automotive': 54,\n",
      "         'Agriculture': 36,\n",
      "         'InvestmentBanking': 33,\n",
      "         'Environment': 28,\n",
      "         'Maritime': 17})\n"
     ]
    }
   ],
   "source": [
    "from collections import Counter\n",
    "# Look for bad values we might need to remove;\n",
    "# the Counter() will tell us how many of each\n",
    "# value we have in our dataset.\n",
    "pprint(Counter(ages))\n",
    "pprint(Counter(genders))\n",
    "pprint(Counter(industries))"
   ]
  },
  {
   "cell_type": "markdown",
   "metadata": {},
   "source": [
    "We'll want to remove the `'indUnk'` industry entries, since these are basically just missing data for us, they consist of a large portion of our total dataset, and we cannot reasonably impute any values.  We'll do this later, when we get to the actual model-building stage.\n",
    "\n",
    "Now, we'll get the GloVe vectors from spaCy.  This will take a pretty long time (about 5 hours on my computer)."
   ]
  },
  {
   "cell_type": "code",
   "execution_count": null,
   "metadata": {
    "collapsed": true
   },
   "outputs": [],
   "source": [
    "%%time\n",
    "\n",
    "print(\"Loading spaCy model.\")\n",
    "# Only large model has pre-trained word vectors.\n",
    "# Disable the parser, tagger, and named entity recognizer\n",
    "# for extra speed in this step.\n",
    "nlp = spacy.load(\"en_core_web_lg\", disable=[\"parser\", \"tagger\", \"ner\"])\n",
    "print(\"Loading blog posts.\")\n",
    "vector_corpus = list(pd.read_csv(\n",
    "    \"corpus data files/Author Data.csv\",\n",
    "    usecols=[\"Posts\"],\n",
    "    squeeze=True\n",
    "))\n",
    "print(\"Retrieving vectors.\")\n",
    "vector_corpus = np.array([\n",
    "    nlp(i).vector\n",
    "    for i in tqdm(vector_corpus, desc=\"spaCy vectors\")\n",
    "])\n",
    "print(vector_corpus)\n",
    "print(vector_corpus.shape)\n",
    "# Cast to a 32-bit floating point format (smaller memory/on-disk size)\n",
    "# and save.  This means we don't have to re-run the above time-\n",
    "# consuming steps every time we want to do some work with this\n",
    "# matrix.\n",
    "np.save(\n",
    "    \"corpus data files/GloVe matrix.npy\", \n",
    "    vector_corpus.astype(np.float32)\n",
    ")"
   ]
  },
  {
   "cell_type": "markdown",
   "metadata": {},
   "source": [
    "Haha, no, just kidding.  That took almost 5 hours to run on my machine, so let's not do that.  We'll use Doc2Vec, as implemented in Gensim, to generate our own word vectors.  Doc2Vec is one of the many vectorization/embedding approaches, but rather than working at the word level, it works directly at the document level.  We'll use a less aggressive preprocessing, since vectorization models are less sensitive to sparsity; this one just de-accents, lowercases, and removes tokens by length.  We'll leave all settings at default (so, mininum length 2, maximum length 15).\n",
    "\n",
    "We'll also only use 100-dimensional vectors for our embeddings, just for speed's sake (and not at all because I meant to do 300 dimensions but forgot to set that option, and only realized half an hour ago).  Note that in general, higher dimensional embeddings (e.g. 300 vs 100) will give better, more accurate results, but will be sparser and take longer to run models on."
   ]
  },
  {
   "cell_type": "code",
   "execution_count": 6,
   "metadata": {
    "collapsed": true
   },
   "outputs": [
    {
     "name": "stdout",
     "output_type": "stream",
     "text": [
      "Reading blog data.\n"
     ]
    },
    {
     "data": {
      "application/vnd.jupyter.widget-view+json": {
       "model_id": "84994fcd453545ba9a8e71b7740ad8fe",
       "version_major": 2,
       "version_minor": 0
      },
      "text/html": [
       "<p>Failed to display Jupyter Widget of type <code>HBox</code>.</p>\n",
       "<p>\n",
       "  If you're reading this message in the Jupyter Notebook or JupyterLab Notebook, it may mean\n",
       "  that the widgets JavaScript is still loading. If this message persists, it\n",
       "  likely means that the widgets JavaScript library is either not installed or\n",
       "  not enabled. See the <a href=\"https://ipywidgets.readthedocs.io/en/stable/user_install.html\">Jupyter\n",
       "  Widgets Documentation</a> for setup instructions.\n",
       "</p>\n",
       "<p>\n",
       "  If you're reading this message in another frontend (for example, a static\n",
       "  rendering on GitHub or <a href=\"https://nbviewer.jupyter.org/\">NBViewer</a>),\n",
       "  it may mean that your frontend doesn't currently support widgets.\n",
       "</p>\n"
      ],
      "text/plain": [
       "HBox(children=(IntProgress(value=0, description='Preprocessing', max=19320), HTML(value='')))"
      ]
     },
     "metadata": {},
     "output_type": "display_data"
    },
    {
     "name": "stdout",
     "output_type": "stream",
     "text": [
      "\n"
     ]
    },
    {
     "data": {
      "application/vnd.jupyter.widget-view+json": {
       "model_id": "5df7758d22e449febe6bba18e312b014",
       "version_major": 2,
       "version_minor": 0
      },
      "text/html": [
       "<p>Failed to display Jupyter Widget of type <code>HBox</code>.</p>\n",
       "<p>\n",
       "  If you're reading this message in the Jupyter Notebook or JupyterLab Notebook, it may mean\n",
       "  that the widgets JavaScript is still loading. If this message persists, it\n",
       "  likely means that the widgets JavaScript library is either not installed or\n",
       "  not enabled. See the <a href=\"https://ipywidgets.readthedocs.io/en/stable/user_install.html\">Jupyter\n",
       "  Widgets Documentation</a> for setup instructions.\n",
       "</p>\n",
       "<p>\n",
       "  If you're reading this message in another frontend (for example, a static\n",
       "  rendering on GitHub or <a href=\"https://nbviewer.jupyter.org/\">NBViewer</a>),\n",
       "  it may mean that your frontend doesn't currently support widgets.\n",
       "</p>\n"
      ],
      "text/plain": [
       "HBox(children=(IntProgress(value=0, description='Phrase-finding', max=19320), HTML(value='')))"
      ]
     },
     "metadata": {},
     "output_type": "display_data"
    },
    {
     "name": "stdout",
     "output_type": "stream",
     "text": [
      "\n",
      "Creating Phraser() object for faster phrasing.\n"
     ]
    },
    {
     "data": {
      "application/vnd.jupyter.widget-view+json": {
       "model_id": "0b004b691e51485f95ece62482fb1aab",
       "version_major": 2,
       "version_minor": 0
      },
      "text/html": [
       "<p>Failed to display Jupyter Widget of type <code>HBox</code>.</p>\n",
       "<p>\n",
       "  If you're reading this message in the Jupyter Notebook or JupyterLab Notebook, it may mean\n",
       "  that the widgets JavaScript is still loading. If this message persists, it\n",
       "  likely means that the widgets JavaScript library is either not installed or\n",
       "  not enabled. See the <a href=\"https://ipywidgets.readthedocs.io/en/stable/user_install.html\">Jupyter\n",
       "  Widgets Documentation</a> for setup instructions.\n",
       "</p>\n",
       "<p>\n",
       "  If you're reading this message in another frontend (for example, a static\n",
       "  rendering on GitHub or <a href=\"https://nbviewer.jupyter.org/\">NBViewer</a>),\n",
       "  it may mean that your frontend doesn't currently support widgets.\n",
       "</p>\n"
      ],
      "text/plain": [
       "HBox(children=(IntProgress(value=0, description='Applying phraser', max=19320), HTML(value='')))"
      ]
     },
     "metadata": {},
     "output_type": "display_data"
    },
    {
     "name": "stdout",
     "output_type": "stream",
     "text": [
      "\n",
      "Done.\n",
      "Wall time: 17min 38s\n"
     ]
    }
   ],
   "source": [
    "%%time\n",
    "\n",
    "from gensim.models.callbacks import CallbackAny2Vec\n",
    "from gensim.utils import simple_preprocess\n",
    "from gensim.models import doc2vec\n",
    "from gensim.models.phrases import Phrases, Phraser\n",
    "import numpy as np\n",
    "import pandas as pd\n",
    "\n",
    "print(\"Reading blog data.\")\n",
    "df = pd.read_csv(\n",
    "    \"corpus data files/Author Data.csv\", \n",
    "    usecols=[\"Posts\"], \n",
    "    squeeze=True\n",
    ").values\n",
    "\n",
    "# gensim preprocessing\n",
    "df = [\n",
    "    simple_preprocess(i)\n",
    "    for i in tqdm(df, desc=\"Preprocessing\")\n",
    "]\n",
    "# phrasing\n",
    "phrases = Phrases(tqdm(df, desc=\"Phrase-finding\"), min_count=100)\n",
    "print(\"Creating Phraser() object for faster phrasing.\")\n",
    "phrases = Phraser(phrases)\n",
    "df = phrases[tqdm(df, desc=\"Applying phraser\")]\n",
    "\n",
    "df = [\n",
    "    doc2vec.TaggedDocument(i, [j])\n",
    "    for j,i in enumerate(df)\n",
    "]\n",
    "\n",
    "print(\"Done.\")"
   ]
  },
  {
   "cell_type": "code",
   "execution_count": 7,
   "metadata": {
    "collapsed": true
   },
   "outputs": [
    {
     "name": "stdout",
     "output_type": "stream",
     "text": [
      "Beginning Doc2Vec.\n",
      "Epoch #1 start\n",
      "Epoch #1 end\n",
      "Epoch #2 start\n",
      "Epoch #2 end\n",
      "Epoch #3 start\n",
      "Epoch #3 end\n",
      "Epoch #4 start\n",
      "Epoch #4 end\n",
      "Epoch #5 start\n",
      "Epoch #5 end\n",
      "Epoch #6 start\n",
      "Epoch #6 end\n",
      "Epoch #7 start\n",
      "Epoch #7 end\n",
      "Epoch #8 start\n",
      "Epoch #8 end\n",
      "Epoch #9 start\n",
      "Epoch #9 end\n",
      "Epoch #10 start\n",
      "Epoch #10 end\n",
      "Epoch #11 start\n",
      "Epoch #11 end\n",
      "Epoch #12 start\n",
      "Epoch #12 end\n",
      "Epoch #13 start\n",
      "Epoch #13 end\n",
      "Epoch #14 start\n",
      "Epoch #14 end\n",
      "Epoch #15 start\n",
      "Epoch #15 end\n",
      "Epoch #16 start\n",
      "Epoch #16 end\n",
      "Epoch #17 start\n",
      "Epoch #17 end\n",
      "Epoch #18 start\n",
      "Epoch #18 end\n",
      "Epoch #19 start\n",
      "Epoch #19 end\n",
      "Epoch #20 start\n",
      "Epoch #20 end\n",
      "Epoch #21 start\n",
      "Epoch #21 end\n",
      "Epoch #22 start\n",
      "Epoch #22 end\n",
      "Epoch #23 start\n",
      "Epoch #23 end\n",
      "Epoch #24 start\n",
      "Epoch #24 end\n",
      "Epoch #25 start\n",
      "Epoch #25 end\n",
      "Doc2Vec model trained.  Saving model to file.\n",
      "Model saved.\n"
     ]
    }
   ],
   "source": [
    "# class to let us track training progress\n",
    "# through Gensim's callbacks interface\n",
    "class EpochLogger(CallbackAny2Vec):\n",
    "    \"Callback to log information about training\"\n",
    "    def __init__(self):\n",
    "        self.epoch = 1\n",
    "\n",
    "    def on_epoch_begin(self, model):\n",
    "        print(\"Epoch #{} start\".format(self.epoch))\n",
    "\n",
    "    def on_epoch_end(self, model):\n",
    "        print(\"Epoch #{} end\".format(self.epoch))\n",
    "        self.epoch += 1\n",
    "\n",
    "print(\"Beginning Doc2Vec.\")\n",
    "epoch_logger = EpochLogger()\n",
    "d2v = doc2vec.Doc2Vec(\n",
    "    df,\n",
    "    min_count=5,\n",
    "    epochs=25,\n",
    "    vector_size=300,\n",
    "    window=5,\n",
    "    worker=3,\n",
    "    callbacks=[epoch_logger]\n",
    ")\n",
    "\n",
    "print(\"Doc2Vec model trained.  Saving model to file.\")\n",
    "d2v.save(\"model files/Doc2Vec\")\n",
    "print(\"Model saved.\")"
   ]
  },
  {
   "cell_type": "code",
   "execution_count": 8,
   "metadata": {
    "collapsed": true
   },
   "outputs": [
    {
     "name": "stdout",
     "output_type": "stream",
     "text": [
      "Loading model from file.\n"
     ]
    },
    {
     "data": {
      "application/vnd.jupyter.widget-view+json": {
       "model_id": "a6970661cfc44fd788b3b351f6644831",
       "version_major": 2,
       "version_minor": 0
      },
      "text/html": [
       "<p>Failed to display Jupyter Widget of type <code>HBox</code>.</p>\n",
       "<p>\n",
       "  If you're reading this message in the Jupyter Notebook or JupyterLab Notebook, it may mean\n",
       "  that the widgets JavaScript is still loading. If this message persists, it\n",
       "  likely means that the widgets JavaScript library is either not installed or\n",
       "  not enabled. See the <a href=\"https://ipywidgets.readthedocs.io/en/stable/user_install.html\">Jupyter\n",
       "  Widgets Documentation</a> for setup instructions.\n",
       "</p>\n",
       "<p>\n",
       "  If you're reading this message in another frontend (for example, a static\n",
       "  rendering on GitHub or <a href=\"https://nbviewer.jupyter.org/\">NBViewer</a>),\n",
       "  it may mean that your frontend doesn't currently support widgets.\n",
       "</p>\n"
      ],
      "text/plain": [
       "HBox(children=(IntProgress(value=0, max=19320), HTML(value='')))"
      ]
     },
     "metadata": {},
     "output_type": "display_data"
    },
    {
     "name": "stdout",
     "output_type": "stream",
     "text": [
      "\n",
      "Done.  Saving document vectors.\n",
      "Done.\n"
     ]
    }
   ],
   "source": [
    "print(\"Loading model from file.\")\n",
    "d2v = doc2vec.Doc2Vec.load(\"model files/Doc2Vec\")\n",
    "vectors = np.array([d2v.infer_vector(i.words) for i in tqdm(df)])\n",
    "print(\"Done.  Saving document vectors.\")\n",
    "np.save(\"corpus data files/Doc2Vec Matrix.npy\", vectors)\n",
    "print(\"Done.\")"
   ]
  },
  {
   "cell_type": "markdown",
   "metadata": {},
   "source": [
    "And now we re-generate our bag-of-words corpus and save it to disk.  Note that we could do tf-idf scaling here, and it might help results a bit, and it would probably help our performance a bit, but we won't--it will make interpreting our model considerably more difficult.  Instead, we'll just apply a standard scaling on the sparse matrix, scaling every feature such that the maximum absolute value is 1.  (we won't center it to zero mean and unit variance--that would destroy the sparsity and we couldn't load the matrix into memory)"
   ]
  },
  {
   "cell_type": "code",
   "execution_count": 9,
   "metadata": {
    "collapsed": true
   },
   "outputs": [
    {
     "name": "stdout",
     "output_type": "stream",
     "text": [
      "Reading in posts.\n"
     ]
    },
    {
     "data": {
      "application/vnd.jupyter.widget-view+json": {
       "model_id": "e8e255948a3f498aaab1b9a125df6565",
       "version_major": 2,
       "version_minor": 0
      },
      "text/html": [
       "<p>Failed to display Jupyter Widget of type <code>HBox</code>.</p>\n",
       "<p>\n",
       "  If you're reading this message in the Jupyter Notebook or JupyterLab Notebook, it may mean\n",
       "  that the widgets JavaScript is still loading. If this message persists, it\n",
       "  likely means that the widgets JavaScript library is either not installed or\n",
       "  not enabled. See the <a href=\"https://ipywidgets.readthedocs.io/en/stable/user_install.html\">Jupyter\n",
       "  Widgets Documentation</a> for setup instructions.\n",
       "</p>\n",
       "<p>\n",
       "  If you're reading this message in another frontend (for example, a static\n",
       "  rendering on GitHub or <a href=\"https://nbviewer.jupyter.org/\">NBViewer</a>),\n",
       "  it may mean that your frontend doesn't currently support widgets.\n",
       "</p>\n"
      ],
      "text/plain": [
       "HBox(children=(IntProgress(value=0, description='Preprocessing', max=19320), HTML(value='')))"
      ]
     },
     "metadata": {},
     "output_type": "display_data"
    },
    {
     "name": "stdout",
     "output_type": "stream",
     "text": [
      "\n"
     ]
    },
    {
     "data": {
      "application/vnd.jupyter.widget-view+json": {
       "model_id": "1849359b642449dd89d2da85fdd4b7b8",
       "version_major": 2,
       "version_minor": 0
      },
      "text/html": [
       "<p>Failed to display Jupyter Widget of type <code>HBox</code>.</p>\n",
       "<p>\n",
       "  If you're reading this message in the Jupyter Notebook or JupyterLab Notebook, it may mean\n",
       "  that the widgets JavaScript is still loading. If this message persists, it\n",
       "  likely means that the widgets JavaScript library is either not installed or\n",
       "  not enabled. See the <a href=\"https://ipywidgets.readthedocs.io/en/stable/user_install.html\">Jupyter\n",
       "  Widgets Documentation</a> for setup instructions.\n",
       "</p>\n",
       "<p>\n",
       "  If you're reading this message in another frontend (for example, a static\n",
       "  rendering on GitHub or <a href=\"https://nbviewer.jupyter.org/\">NBViewer</a>),\n",
       "  it may mean that your frontend doesn't currently support widgets.\n",
       "</p>\n"
      ],
      "text/plain": [
       "HBox(children=(IntProgress(value=0, description='Phrase-finding', max=19320), HTML(value='')))"
      ]
     },
     "metadata": {},
     "output_type": "display_data"
    },
    {
     "name": "stdout",
     "output_type": "stream",
     "text": [
      "\n"
     ]
    },
    {
     "data": {
      "application/vnd.jupyter.widget-view+json": {
       "model_id": "f6be096973c24d45975f772704d2c791",
       "version_major": 2,
       "version_minor": 0
      },
      "text/html": [
       "<p>Failed to display Jupyter Widget of type <code>HBox</code>.</p>\n",
       "<p>\n",
       "  If you're reading this message in the Jupyter Notebook or JupyterLab Notebook, it may mean\n",
       "  that the widgets JavaScript is still loading. If this message persists, it\n",
       "  likely means that the widgets JavaScript library is either not installed or\n",
       "  not enabled. See the <a href=\"https://ipywidgets.readthedocs.io/en/stable/user_install.html\">Jupyter\n",
       "  Widgets Documentation</a> for setup instructions.\n",
       "</p>\n",
       "<p>\n",
       "  If you're reading this message in another frontend (for example, a static\n",
       "  rendering on GitHub or <a href=\"https://nbviewer.jupyter.org/\">NBViewer</a>),\n",
       "  it may mean that your frontend doesn't currently support widgets.\n",
       "</p>\n"
      ],
      "text/plain": [
       "HBox(children=(IntProgress(value=0, description='Phrasing', max=19320), HTML(value='')))"
      ]
     },
     "metadata": {},
     "output_type": "display_data"
    },
    {
     "name": "stderr",
     "output_type": "stream",
     "text": [
      "c:\\users\\andersonh\\appdata\\local\\programs\\python\\python36\\lib\\site-packages\\gensim\\models\\phrases.py:486: UserWarning: For a faster implementation, use the gensim.models.phrases.Phraser class\n",
      "  warnings.warn(\"For a faster implementation, use the gensim.models.phrases.Phraser class\")\n"
     ]
    },
    {
     "name": "stdout",
     "output_type": "stream",
     "text": [
      "\n"
     ]
    },
    {
     "data": {
      "application/vnd.jupyter.widget-view+json": {
       "model_id": "64240775714444748b6a30c15424f8fd",
       "version_major": 2,
       "version_minor": 0
      },
      "text/html": [
       "<p>Failed to display Jupyter Widget of type <code>HBox</code>.</p>\n",
       "<p>\n",
       "  If you're reading this message in the Jupyter Notebook or JupyterLab Notebook, it may mean\n",
       "  that the widgets JavaScript is still loading. If this message persists, it\n",
       "  likely means that the widgets JavaScript library is either not installed or\n",
       "  not enabled. See the <a href=\"https://ipywidgets.readthedocs.io/en/stable/user_install.html\">Jupyter\n",
       "  Widgets Documentation</a> for setup instructions.\n",
       "</p>\n",
       "<p>\n",
       "  If you're reading this message in another frontend (for example, a static\n",
       "  rendering on GitHub or <a href=\"https://nbviewer.jupyter.org/\">NBViewer</a>),\n",
       "  it may mean that your frontend doesn't currently support widgets.\n",
       "</p>\n"
      ],
      "text/plain": [
       "HBox(children=(IntProgress(value=0, description='id2word', max=19320), HTML(value='')))"
      ]
     },
     "metadata": {},
     "output_type": "display_data"
    },
    {
     "name": "stdout",
     "output_type": "stream",
     "text": [
      "\n",
      "Removed 521864 tokens based on frequency criteria.\n"
     ]
    },
    {
     "data": {
      "application/vnd.jupyter.widget-view+json": {
       "model_id": "5295253451fc4eb995a9f60e2e49c63a",
       "version_major": 2,
       "version_minor": 0
      },
      "text/html": [
       "<p>Failed to display Jupyter Widget of type <code>HBox</code>.</p>\n",
       "<p>\n",
       "  If you're reading this message in the Jupyter Notebook or JupyterLab Notebook, it may mean\n",
       "  that the widgets JavaScript is still loading. If this message persists, it\n",
       "  likely means that the widgets JavaScript library is either not installed or\n",
       "  not enabled. See the <a href=\"https://ipywidgets.readthedocs.io/en/stable/user_install.html\">Jupyter\n",
       "  Widgets Documentation</a> for setup instructions.\n",
       "</p>\n",
       "<p>\n",
       "  If you're reading this message in another frontend (for example, a static\n",
       "  rendering on GitHub or <a href=\"https://nbviewer.jupyter.org/\">NBViewer</a>),\n",
       "  it may mean that your frontend doesn't currently support widgets.\n",
       "</p>\n"
      ],
      "text/plain": [
       "HBox(children=(IntProgress(value=0, description='BoW', max=19320), HTML(value='')))"
      ]
     },
     "metadata": {},
     "output_type": "display_data"
    },
    {
     "name": "stdout",
     "output_type": "stream",
     "text": [
      "\n",
      "Serializing corpus.\n",
      "Wall time: 19min 40s\n"
     ]
    }
   ],
   "source": [
    "%%time\n",
    "\n",
    "from gensim.parsing.preprocessing import preprocess_string\n",
    "from gensim.models.phrases import Phrases, Phraser\n",
    "\n",
    "print(\"Reading in posts.\")\n",
    "corpus = list(pd.read_csv(\n",
    "    \"corpus data files/Author Data.csv\",\n",
    "    usecols=[\"Posts\"],\n",
    "    squeeze=True\n",
    "))\n",
    "\n",
    "# preprocess our corpus\n",
    "corpus = [\n",
    "    preprocess_string(i) \n",
    "    for i in tqdm(corpus, desc=\"Preprocessing\")\n",
    "]\n",
    "phrases = Phrases(tqdm(corpus, desc=\"Phrase-finding\"), min_count=100)\n",
    "corpus = list(phrases[tqdm(corpus, desc=\"Phrasing\")])\n",
    "id2word = Dictionary(tqdm(corpus, desc=\"id2word\"))\n",
    "vocabsize = len(id2word)\n",
    "# remove tokens with extremely high or low frequencies\n",
    "id2word.filter_extremes(\n",
    "    no_above=.5,  # remove tokens in > 50% of the documents (default)\n",
    "    no_below=5,   # remove tokens in < 5 documents (default)\n",
    "    keep_n=500000 # only keep 500k tokens, max--up from default 100k for good measure\n",
    ")\n",
    "# Reset index spacings for better efficiency\n",
    "id2word.compactify()\n",
    "print(f\"Removed {vocabsize - len(id2word)} tokens based on frequency criteria.\")\n",
    "corpus = [\n",
    "    id2word.doc2bow(i) \n",
    "    for i in tqdm(corpus, desc=\"BoW\")\n",
    "]\n",
    "\n",
    "print(\"Serializing corpus.\")\n",
    "id2word.save(\"corpus data files/author_id2word\")\n",
    "MmCorpus.serialize(\n",
    "    fname=\"corpus data files/author_corpus.mm\",\n",
    "    corpus=corpus,\n",
    "    id2word=id2word\n",
    ")"
   ]
  },
  {
   "cell_type": "code",
   "execution_count": 3,
   "metadata": {},
   "outputs": [
    {
     "name": "stdout",
     "output_type": "stream",
     "text": [
      "Loading bag-of-words (non tf-idf) corpus.\n",
      "Scaling bag-of-words features.\n"
     ]
    }
   ],
   "source": [
    "print(\"Loading bag-of-words (non tf-idf) corpus.\")\n",
    "corpus = list(MmCorpus(\"corpus data files/author_corpus.mm\"))\n",
    "corpus = corpus2csc(corpus).transpose().tocsr()\n",
    "print(\"Scaling bag-of-words features.\")\n",
    "corpus = MaxAbsScaler().fit_transform(corpus)"
   ]
  },
  {
   "cell_type": "markdown",
   "metadata": {},
   "source": [
    "Now let's do the actual modeling.  We'll use Support Vector Machines for classification and regression; these are pretty powerful models and generally pretty good choices.  Others, which we won't use here because they take longer to run, include Random Forests, Adaboost, Stochastic Gradient Descent (which is fast, but has a _lot_ of parameters to tune), and neural networks.\n",
    "\n",
    "We will:\n",
    "\n",
    "* Use a grid search to exhaustively search for good parameters (within a pre-defined search space).  This is called _(hyper)parameter optimization._\n",
    "* Use 3-fold cross-validation to assess model performance for each parameter combination we try.\n",
    "  * Data is split into 3 equally sized \"folds.\"  (usually, 5 or 10 folds would be used, but for time's sake, 3 will suffice here).\n",
    "  * Four folds are used to train the model; the fifth is used to assess its performance.\n",
    "  * All permutations of \"train-on-2, test-on-1\" are performed, and scores are averaged to get the overall model performance.\n",
    "* Print out the best model parameters and the best score for each task.\n",
    "* Open up one of the models and look inside it."
   ]
  },
  {
   "cell_type": "code",
   "execution_count": null,
   "metadata": {},
   "outputs": [
    {
     "name": "stdout",
     "output_type": "stream",
     "text": [
      "Loading and Doc2Vec corpus.\n",
      "(19320, 300)\n",
      "Done.\n"
     ]
    }
   ],
   "source": [
    "# For remove \"indUnk\" industries later\n",
    "tmp = industries != \"indUnk\"\n",
    "\n",
    "# Load our vector corpus from file and normalize\n",
    "# each observation (not feature) to have magnitude 1\n",
    "print(\"Loading and Doc2Vec corpus.\")\n",
    "vector_corpus = np.load(\"corpus data files/Doc2Vec matrix.npy\")\n",
    "vector_corpus = Normalizer().fit_transform(vector_corpus)\n",
    "print(vector_corpus.shape)\n",
    "print(\"Done.\")\n",
    "\n",
    "# Create the scikit-learn optimizers that will do cross-validaton\n",
    "# scoring and tune our model parameters\n",
    "svr_optimizer = GridSearchCV(\n",
    "    estimator=LinearSVR(),\n",
    "    param_grid={\n",
    "        \"C\":np.logspace(-5, 1, 7),\n",
    "    },\n",
    "    n_jobs=3,\n",
    "    verbose=3,\n",
    "    cv=3,\n",
    "#     error_score=0,\n",
    ")\n",
    "\n",
    "svc_optimizer = GridSearchCV(\n",
    "    estimator=LinearSVC(),\n",
    "    param_grid={\n",
    "        \"C\":np.logspace(-5, 1, 7)\n",
    "    },\n",
    "    n_jobs=3,\n",
    "    verbose=3,\n",
    "    cv=3,\n",
    "#     error_score=0,\n",
    "    scoring=make_scorer(f1_score, average=\"macro\")\n",
    ")\n",
    "\n",
    "svc_optimizer_binary = GridSearchCV(\n",
    "    estimator=LinearSVC(),\n",
    "    param_grid={\n",
    "        \"C\":np.logspace(-5, 1, 7)\n",
    "    },\n",
    "    n_jobs=3,\n",
    "    verbose=3,\n",
    "    cv=3,\n",
    "#     error_score=0,\n",
    "    scoring=make_scorer(f1_score)\n",
    ")"
   ]
  },
  {
   "cell_type": "markdown",
   "metadata": {},
   "source": [
    "Now, let's optimize some models!  We'll save the best-performing models to file for each set."
   ]
  },
  {
   "cell_type": "code",
   "execution_count": null,
   "metadata": {},
   "outputs": [
    {
     "name": "stdout",
     "output_type": "stream",
     "text": [
      "Beginning CSR-Age regression fit.\n",
      "Fitting 3 folds for each of 7 candidates, totalling 21 fits\n"
     ]
    },
    {
     "name": "stderr",
     "output_type": "stream",
     "text": [
      "[Parallel(n_jobs=3)]: Done  21 out of  21 | elapsed:  1.9min finished\n"
     ]
    },
    {
     "name": "stdout",
     "output_type": "stream",
     "text": [
      "Beginning GloVe-Age regression fit.\n",
      "Fitting 3 folds for each of 7 candidates, totalling 21 fits\n"
     ]
    },
    {
     "name": "stderr",
     "output_type": "stream",
     "text": [
      "[Parallel(n_jobs=3)]: Done  21 out of  21 | elapsed:    3.3s finished\n"
     ]
    },
    {
     "name": "stdout",
     "output_type": "stream",
     "text": [
      "Beginning CSR-Gender binary classification fit.\n",
      "Fitting 3 folds for each of 7 candidates, totalling 21 fits\n"
     ]
    }
   ],
   "source": [
    "%%time\n",
    "\n",
    "from sklearn.externals import joblib\n",
    "\n",
    "print(\"Beginning CSR-Age regression fit.\")\n",
    "best_age_bow = svr_optimizer.fit(\n",
    "    corpus,\n",
    "    ages\n",
    ")\n",
    "joblib.dump(\n",
    "    best_age_bow.best_estimator_,\n",
    "    \"model files/age_bow.pkl\"\n",
    ")\n",
    "\n",
    "print(\"Beginning GloVe-Age regression fit.\")\n",
    "best_age_glove = svr_optimizer.fit(\n",
    "    vector_corpus,\n",
    "    ages\n",
    ")\n",
    "joblib.dump(\n",
    "    best_age_glove.best_estimator_,\n",
    "    \"model files/age_glove.pkl\"\n",
    ")\n",
    "\n",
    "print(\"Beginning CSR-Gender binary classification fit.\")\n",
    "best_sign_bow = svc_optimizer_binary.fit(\n",
    "    corpus,\n",
    "    genders\n",
    ")\n",
    "joblib.dump(\n",
    "    best_sign_bow.best_estimator_,\n",
    "    \"model files/sign_bow.pkl\"\n",
    ")\n",
    "\n",
    "print(\"Beginning GloVe-Gender binary classification fit.\")\n",
    "best_sign_glove = svc_optimizer_binary.fit(\n",
    "    vector_corpus,\n",
    "    genders\n",
    ")\n",
    "joblib.dump(\n",
    "    best_sign_glove.best_estimator_,\n",
    "    \"model files/sign_glove.pkl\"\n",
    ")\n",
    "\n",
    "print(\"Beginning CSR-Industry classification fit.\")\n",
    "best_industry_bow = svc_optimizer.fit(\n",
    "    corpus[tmp],\n",
    "    industries[tmp]\n",
    ")\n",
    "joblib.dump(\n",
    "    best_industry_bow.best_estimator_,\n",
    "    \"model files/industry_bow.pkl\"\n",
    ")\n",
    "\n",
    "print(\"Beginning GloVe-Industry Sign classification fit.\")\n",
    "best_industry_glove = svc_optimizer.fit(\n",
    "    vector_corpus[tmp],\n",
    "    industries[tmp]\n",
    ")\n",
    "joblib.dump(\n",
    "    best_industry_glove.best_estimator_,\n",
    "    \"model files/industry_glove.pkl\"\n",
    ")"
   ]
  },
  {
   "cell_type": "markdown",
   "metadata": {},
   "source": [
    "We can quickly compute the approximate F1 scores for randomly guessing by randomly permuting the target classification variables and calculating the F1 scores from treating these permutations as our predictions."
   ]
  },
  {
   "cell_type": "code",
   "execution_count": 13,
   "metadata": {
    "collapsed": true
   },
   "outputs": [],
   "source": [
    "from sklearn.preprocessing import LabelEncoder\n",
    "\n",
    "genders_ = LabelEncoder().fit_transform(genders)\n",
    "industries_ = LabelEncoder().fit_transform(industries)\n",
    "\n",
    "\n",
    "genders_f1_chance = f1_score(\n",
    "    genders_, \n",
    "    np.random.permutation(genders_)\n",
    ")\n",
    "industries_f1_chance = f1_score(\n",
    "    industries_,\n",
    "    np.random.permutation(industries_),\n",
    "    average=\"macro\"\n",
    ")"
   ]
  },
  {
   "cell_type": "code",
   "execution_count": 14,
   "metadata": {
    "collapsed": true
   },
   "outputs": [
    {
     "name": "stdout",
     "output_type": "stream",
     "text": [
      "CSR-Age model:\n",
      "Best R^2 score:  0.5284237080675517\n",
      "Best parameters: {'C': 10.0}\n",
      "\n",
      "GloVe-Age model:\n",
      "Best R^2 score:  0.5284237080675517\n",
      "Best parameters: {'C': 10.0}\n",
      "\n",
      "CSR-Gender model:\n"
     ]
    },
    {
     "ename": "NameError",
     "evalue": "name 'best_sign_bow' is not defined",
     "output_type": "error",
     "traceback": [
      "\u001b[1;31m---------------------------------------------------------------------------\u001b[0m",
      "\u001b[1;31mNameError\u001b[0m                                 Traceback (most recent call last)",
      "\u001b[1;32m<ipython-input-14-cf487a397a96>\u001b[0m in \u001b[0;36m<module>\u001b[1;34m()\u001b[0m\n\u001b[0;32m      8\u001b[0m \u001b[1;33m\u001b[0m\u001b[0m\n\u001b[0;32m      9\u001b[0m \u001b[0mprint\u001b[0m\u001b[1;33m(\u001b[0m\u001b[1;34m\"\\nCSR-Gender model:\"\u001b[0m\u001b[1;33m)\u001b[0m\u001b[1;33m\u001b[0m\u001b[0m\n\u001b[1;32m---> 10\u001b[1;33m \u001b[0mprint\u001b[0m\u001b[1;33m(\u001b[0m\u001b[1;34mf\"Best F1 score:   {best_sign_bow.best_score_}\"\u001b[0m\u001b[1;33m)\u001b[0m\u001b[1;33m\u001b[0m\u001b[0m\n\u001b[0m\u001b[0;32m     11\u001b[0m \u001b[1;31m# print(f\"Chance F1 score: {genders_f1_change}\")\u001b[0m\u001b[1;33m\u001b[0m\u001b[1;33m\u001b[0m\u001b[0m\n\u001b[0;32m     12\u001b[0m \u001b[0mprint\u001b[0m\u001b[1;33m(\u001b[0m\u001b[1;34mf\"Best parameters: {best_sign_bow.best_params_}\"\u001b[0m\u001b[1;33m)\u001b[0m\u001b[1;33m\u001b[0m\u001b[0m\n",
      "\u001b[1;31mNameError\u001b[0m: name 'best_sign_bow' is not defined"
     ]
    }
   ],
   "source": [
    "print(\"CSR-Age model:\")\n",
    "print(f\"Best R^2 score:  {best_age_bow.best_score_}\")\n",
    "print(f\"Best parameters: {best_age_bow.best_params_}\")\n",
    "\n",
    "print(\"\\nGloVe-Age model:\")\n",
    "print(f\"Best R^2 score:  {best_age_glove.best_score_}\")\n",
    "print(f\"Best parameters: {best_age_glove.best_params_}\")\n",
    "\n",
    "print(\"\\nCSR-Gender model:\")\n",
    "print(f\"Best F1 score:   {best_sign_bow.best_score_}\")\n",
    "# print(f\"Chance F1 score: {genders_f1_change}\")\n",
    "print(f\"Best parameters: {best_sign_bow.best_params_}\")\n",
    "\n",
    "print(\"\\nGloVe-Gender model:\")\n",
    "print(f\"Best F1 score:   {best_sign_glove.best_score_}\")\n",
    "# print(f\"Chance F1 score: {genders_f1_change}\")\n",
    "print(f\"Best parameters: {best_sign_glove.best_params_}\")\n",
    "\n",
    "print(\"\\nCSR-Industry model:\")\n",
    "print(f\"Best F1 score:   {best_industry_bow.best_score_}\")\n",
    "# print(f\"Chance F1 score: {industries_f1_change}\")\n",
    "print(f\"Best parameters: {best_industry_bow.best_params_}\")\n",
    "\n",
    "print(\"\\nGloVe-Industry model:\")\n",
    "print(f\"Best F1 score:   {best_industry_glove.best_score_}\")\n",
    "# print(f\"Chance F1 score: {industries_f1_change}\")\n",
    "print(f\"Best parameters: {best_industry_glove.best_params_}\")"
   ]
  },
  {
   "cell_type": "markdown",
   "metadata": {},
   "source": [
    "Now, for kicks, let's open up one of the models--the age-bow model--and see what it learned.  SVMs are linear models, so we can just look at the coefficient weights."
   ]
  },
  {
   "cell_type": "code",
   "execution_count": null,
   "metadata": {
    "collapsed": true
   },
   "outputs": [],
   "source": [
    "model = best_age_bow.best_estimator_\n",
    "coefs = model.coef_\n",
    "# Zip up the coefficients with the actual text\n",
    "# of the tokens, for human interpretability.\n",
    "id2word = Dictionary.load(\"corpus data files/author_id2word\")\n",
    "coefs = [(id2word[i], coefs[i]) for i in range(len(coefs))]\n",
    "coefs = sorted(coefs, key=lambda x: abs(x[1]), reverse=True)\n",
    "for i in coefs[:25]:\n",
    "    print(f\"{i[0]:<25s} {i[1]}\")"
   ]
  },
  {
   "cell_type": "code",
   "execution_count": null,
   "metadata": {
    "collapsed": true
   },
   "outputs": [],
   "source": []
  }
 ],
 "metadata": {
  "kernelspec": {
   "display_name": "Python 3",
   "language": "python",
   "name": "python3"
  },
  "language_info": {
   "codemirror_mode": {
    "name": "ipython",
    "version": 3
   },
   "file_extension": ".py",
   "mimetype": "text/x-python",
   "name": "python",
   "nbconvert_exporter": "python",
   "pygments_lexer": "ipython3",
   "version": "3.6.4"
  }
 },
 "nbformat": 4,
 "nbformat_minor": 2
}
